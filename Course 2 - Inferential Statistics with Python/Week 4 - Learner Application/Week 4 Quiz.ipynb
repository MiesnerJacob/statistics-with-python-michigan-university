{
 "cells": [
  {
   "cell_type": "markdown",
   "metadata": {},
   "source": [
    "*Question 1*\n",
    "\n",
    "**A simple random sample of 500 undergraduates at a large university self-administered a political knowledge test, where the maximum score is 100 and the minimum score is 0. The mean score was 62.5, and the standard deviation of the scores was 10. What is a 95% confidence interval for the overall undergraduate mean at the university?**"
   ]
  },
  {
   "cell_type": "code",
   "execution_count": 3,
   "metadata": {},
   "outputs": [],
   "source": [
    "import math"
   ]
  },
  {
   "cell_type": "code",
   "execution_count": 4,
   "metadata": {},
   "outputs": [],
   "source": [
    "n = 500\n",
    "point_estimate = 62.5\n",
    "sample_standard_deviation = 10\n",
    "t_multiplier = 1.96"
   ]
  },
  {
   "cell_type": "code",
   "execution_count": 8,
   "metadata": {},
   "outputs": [
    {
     "name": "stdout",
     "output_type": "stream",
     "text": [
      "standard error: 0.88\n"
     ]
    }
   ],
   "source": [
    "standard_error = t_multiplier * (sample_standard_deviation/math.sqrt(n))\n",
    "print(\"standard error: \" +str(round(standard_error,2)))"
   ]
  },
  {
   "cell_type": "code",
   "execution_count": 12,
   "metadata": {},
   "outputs": [
    {
     "name": "stdout",
     "output_type": "stream",
     "text": [
      "confidence interval: (63.37653864717992, 61.62346135282008)\n"
     ]
    }
   ],
   "source": [
    "confidence_interval = (point_estimate + standard_error, point_estimate - standard_error)\n",
    "print(\"confidence interval: \" + str(confidence_interval))"
   ]
  },
  {
   "cell_type": "markdown",
   "metadata": {},
   "source": [
    "*Question 2*\n",
    "\n",
    "**Given the result in Problem 1, what would we conclude about a hypothesized mean of 63?**\n",
    "\n",
    "We have evidence in support of this hypothesized mean."
   ]
  },
  {
   "cell_type": "markdown",
   "metadata": {},
   "source": [
    "*Question 3*\n",
    "\n",
    "**How do we interpret the confidence interval in Problem 1?**\n",
    "\n",
    "95% of all confidence intervals computed this way will cover the true population mean (in expectation)."
   ]
  },
  {
   "cell_type": "markdown",
   "metadata": {},
   "source": [
    "*Question 4*\n",
    "\n",
    "**We perform a two-tailed, one-sample t-test of the null hypothesis that the true population mean is 63, versus the alternative hypothesis that the mean is different from 63. We find a test statistic of t = -1.12 (df = 499), with a p-value of 0.264. What is our decision about the null hypothesis at an alpha=0.05?**"
   ]
  },
  {
   "cell_type": "code",
   "execution_count": 13,
   "metadata": {},
   "outputs": [],
   "source": [
    "null_hypothesis = 63\n",
    "test_statistic= -1.12\n",
    "df = 499\n",
    "p_value = 0.05"
   ]
  },
  {
   "cell_type": "markdown",
   "metadata": {},
   "source": [
    "We fail to reject it; the mean is not significantly different from this hypothesized mean."
   ]
  },
  {
   "cell_type": "markdown",
   "metadata": {},
   "source": [
    "*Question 5*\n",
    "\n",
    "**A new experimental drug for reducing the pain due to migraine headaches is being tested in a randomized controlled trial. A total of 100 participants with a history of migraine headaches are given the drug, and 100 participants with the same history are given a placebo pill. Each participant is asked about their pain one hour after taking the medication, and whether it has been reduced (yes or no). A biostatistician computes an exact 95% confidence interval for the difference in the proportions of people experiencing pain relief within one hour (treatment minus control). The 95% confidence interval for the difference in proportions is (-0.05, 0.09). What should the biostatistician conclude?**"
   ]
  },
  {
   "cell_type": "code",
   "execution_count": 14,
   "metadata": {},
   "outputs": [],
   "source": [
    "n = 100\n",
    "significance = 0.05\n",
    "resulting_interval = (-0.05, 0.09)"
   ]
  },
  {
   "cell_type": "markdown",
   "metadata": {},
   "source": [
    "There is no evidence at all of the experimental pill being effective; the proportions are statistically identical."
   ]
  }
 ],
 "metadata": {
  "kernelspec": {
   "display_name": "Python 3",
   "language": "python",
   "name": "python3"
  },
  "language_info": {
   "codemirror_mode": {
    "name": "ipython",
    "version": 3
   },
   "file_extension": ".py",
   "mimetype": "text/x-python",
   "name": "python",
   "nbconvert_exporter": "python",
   "pygments_lexer": "ipython3",
   "version": "3.8.6"
  },
  "toc": {
   "base_numbering": 1,
   "nav_menu": {},
   "number_sections": true,
   "sideBar": true,
   "skip_h1_title": false,
   "title_cell": "Table of Contents",
   "title_sidebar": "Contents",
   "toc_cell": false,
   "toc_position": {},
   "toc_section_display": true,
   "toc_window_display": false
  }
 },
 "nbformat": 4,
 "nbformat_minor": 4
}
