{
 "cells": [
  {
   "cell_type": "markdown",
   "metadata": {},
   "source": [
    "# Practice notebook for hypothesis tests using NHANES data\n",
    "\n",
    "This notebook will give you the opportunity to perform some hypothesis tests with the NHANES data that are similar to\n",
    "what was done in the week 3 case study notebook.\n",
    "\n",
    "You can enter your code into the cells that say \"enter your code here\", and you can type responses to the questions into the cells that say \"Type Markdown and Latex\".\n",
    "\n",
    "Note that most of the code that you will need to write below is very similar to code that appears in the case study notebook.  You will need to edit code from that notebook in small ways to adapt it to the prompts below.\n",
    "\n",
    "To get started, we will use the same module imports and read the data in the same way as we did in the case study:"
   ]
  },
  {
   "cell_type": "code",
   "execution_count": 66,
   "metadata": {},
   "outputs": [],
   "source": [
    "%matplotlib inline\n",
    "import matplotlib.pyplot as plt\n",
    "import seaborn as sns\n",
    "import pandas as pd\n",
    "import statsmodels.api as sm\n",
    "import numpy as np\n",
    "import scipy.stats.distributions as dist\n",
    "from statsmodels.stats.proportion import proportion_confint\n",
    "import math\n",
    "\n",
    "da = pd.read_csv(\"nhanes_2015_2016.csv\")"
   ]
  },
  {
   "cell_type": "code",
   "execution_count": 2,
   "metadata": {
    "scrolled": true
   },
   "outputs": [
    {
     "data": {
      "text/plain": [
       "Index(['SEQN', 'ALQ101', 'ALQ110', 'ALQ130', 'SMQ020', 'RIAGENDR', 'RIDAGEYR',\n",
       "       'RIDRETH1', 'DMDCITZN', 'DMDEDUC2', 'DMDMARTL', 'DMDHHSIZ', 'WTINT2YR',\n",
       "       'SDMVPSU', 'SDMVSTRA', 'INDFMPIR', 'BPXSY1', 'BPXDI1', 'BPXSY2',\n",
       "       'BPXDI2', 'BMXWT', 'BMXHT', 'BMXBMI', 'BMXLEG', 'BMXARML', 'BMXARMC',\n",
       "       'BMXWAIST', 'HIQ210'],\n",
       "      dtype='object')"
      ]
     },
     "execution_count": 2,
     "metadata": {},
     "output_type": "execute_result"
    }
   ],
   "source": [
    "da.columns"
   ]
  },
  {
   "cell_type": "code",
   "execution_count": 3,
   "metadata": {
    "scrolled": true
   },
   "outputs": [
    {
     "data": {
      "text/html": [
       "<div>\n",
       "<style scoped>\n",
       "    .dataframe tbody tr th:only-of-type {\n",
       "        vertical-align: middle;\n",
       "    }\n",
       "\n",
       "    .dataframe tbody tr th {\n",
       "        vertical-align: top;\n",
       "    }\n",
       "\n",
       "    .dataframe thead th {\n",
       "        text-align: right;\n",
       "    }\n",
       "</style>\n",
       "<table border=\"1\" class=\"dataframe\">\n",
       "  <thead>\n",
       "    <tr style=\"text-align: right;\">\n",
       "      <th></th>\n",
       "      <th>SEQN</th>\n",
       "      <th>ALQ101</th>\n",
       "      <th>ALQ110</th>\n",
       "      <th>ALQ130</th>\n",
       "      <th>SMQ020</th>\n",
       "      <th>RIAGENDR</th>\n",
       "      <th>RIDAGEYR</th>\n",
       "      <th>RIDRETH1</th>\n",
       "      <th>DMDCITZN</th>\n",
       "      <th>DMDEDUC2</th>\n",
       "      <th>...</th>\n",
       "      <th>BPXSY2</th>\n",
       "      <th>BPXDI2</th>\n",
       "      <th>BMXWT</th>\n",
       "      <th>BMXHT</th>\n",
       "      <th>BMXBMI</th>\n",
       "      <th>BMXLEG</th>\n",
       "      <th>BMXARML</th>\n",
       "      <th>BMXARMC</th>\n",
       "      <th>BMXWAIST</th>\n",
       "      <th>HIQ210</th>\n",
       "    </tr>\n",
       "  </thead>\n",
       "  <tbody>\n",
       "    <tr>\n",
       "      <th>0</th>\n",
       "      <td>83732</td>\n",
       "      <td>1.0</td>\n",
       "      <td>NaN</td>\n",
       "      <td>1.0</td>\n",
       "      <td>1</td>\n",
       "      <td>1</td>\n",
       "      <td>62</td>\n",
       "      <td>3</td>\n",
       "      <td>1.0</td>\n",
       "      <td>5.0</td>\n",
       "      <td>...</td>\n",
       "      <td>124.0</td>\n",
       "      <td>64.0</td>\n",
       "      <td>94.8</td>\n",
       "      <td>184.5</td>\n",
       "      <td>27.8</td>\n",
       "      <td>43.3</td>\n",
       "      <td>43.6</td>\n",
       "      <td>35.9</td>\n",
       "      <td>101.1</td>\n",
       "      <td>2.0</td>\n",
       "    </tr>\n",
       "    <tr>\n",
       "      <th>1</th>\n",
       "      <td>83733</td>\n",
       "      <td>1.0</td>\n",
       "      <td>NaN</td>\n",
       "      <td>6.0</td>\n",
       "      <td>1</td>\n",
       "      <td>1</td>\n",
       "      <td>53</td>\n",
       "      <td>3</td>\n",
       "      <td>2.0</td>\n",
       "      <td>3.0</td>\n",
       "      <td>...</td>\n",
       "      <td>140.0</td>\n",
       "      <td>88.0</td>\n",
       "      <td>90.4</td>\n",
       "      <td>171.4</td>\n",
       "      <td>30.8</td>\n",
       "      <td>38.0</td>\n",
       "      <td>40.0</td>\n",
       "      <td>33.2</td>\n",
       "      <td>107.9</td>\n",
       "      <td>NaN</td>\n",
       "    </tr>\n",
       "    <tr>\n",
       "      <th>2</th>\n",
       "      <td>83734</td>\n",
       "      <td>1.0</td>\n",
       "      <td>NaN</td>\n",
       "      <td>NaN</td>\n",
       "      <td>1</td>\n",
       "      <td>1</td>\n",
       "      <td>78</td>\n",
       "      <td>3</td>\n",
       "      <td>1.0</td>\n",
       "      <td>3.0</td>\n",
       "      <td>...</td>\n",
       "      <td>132.0</td>\n",
       "      <td>44.0</td>\n",
       "      <td>83.4</td>\n",
       "      <td>170.1</td>\n",
       "      <td>28.8</td>\n",
       "      <td>35.6</td>\n",
       "      <td>37.0</td>\n",
       "      <td>31.0</td>\n",
       "      <td>116.5</td>\n",
       "      <td>2.0</td>\n",
       "    </tr>\n",
       "    <tr>\n",
       "      <th>3</th>\n",
       "      <td>83735</td>\n",
       "      <td>2.0</td>\n",
       "      <td>1.0</td>\n",
       "      <td>1.0</td>\n",
       "      <td>2</td>\n",
       "      <td>2</td>\n",
       "      <td>56</td>\n",
       "      <td>3</td>\n",
       "      <td>1.0</td>\n",
       "      <td>5.0</td>\n",
       "      <td>...</td>\n",
       "      <td>134.0</td>\n",
       "      <td>68.0</td>\n",
       "      <td>109.8</td>\n",
       "      <td>160.9</td>\n",
       "      <td>42.4</td>\n",
       "      <td>38.5</td>\n",
       "      <td>37.7</td>\n",
       "      <td>38.3</td>\n",
       "      <td>110.1</td>\n",
       "      <td>2.0</td>\n",
       "    </tr>\n",
       "    <tr>\n",
       "      <th>4</th>\n",
       "      <td>83736</td>\n",
       "      <td>2.0</td>\n",
       "      <td>1.0</td>\n",
       "      <td>1.0</td>\n",
       "      <td>2</td>\n",
       "      <td>2</td>\n",
       "      <td>42</td>\n",
       "      <td>4</td>\n",
       "      <td>1.0</td>\n",
       "      <td>4.0</td>\n",
       "      <td>...</td>\n",
       "      <td>114.0</td>\n",
       "      <td>54.0</td>\n",
       "      <td>55.2</td>\n",
       "      <td>164.9</td>\n",
       "      <td>20.3</td>\n",
       "      <td>37.4</td>\n",
       "      <td>36.0</td>\n",
       "      <td>27.2</td>\n",
       "      <td>80.4</td>\n",
       "      <td>2.0</td>\n",
       "    </tr>\n",
       "  </tbody>\n",
       "</table>\n",
       "<p>5 rows × 28 columns</p>\n",
       "</div>"
      ],
      "text/plain": [
       "    SEQN  ALQ101  ALQ110  ALQ130  SMQ020  RIAGENDR  RIDAGEYR  RIDRETH1  \\\n",
       "0  83732     1.0     NaN     1.0       1         1        62         3   \n",
       "1  83733     1.0     NaN     6.0       1         1        53         3   \n",
       "2  83734     1.0     NaN     NaN       1         1        78         3   \n",
       "3  83735     2.0     1.0     1.0       2         2        56         3   \n",
       "4  83736     2.0     1.0     1.0       2         2        42         4   \n",
       "\n",
       "   DMDCITZN  DMDEDUC2  ...  BPXSY2  BPXDI2  BMXWT  BMXHT  BMXBMI  BMXLEG  \\\n",
       "0       1.0       5.0  ...   124.0    64.0   94.8  184.5    27.8    43.3   \n",
       "1       2.0       3.0  ...   140.0    88.0   90.4  171.4    30.8    38.0   \n",
       "2       1.0       3.0  ...   132.0    44.0   83.4  170.1    28.8    35.6   \n",
       "3       1.0       5.0  ...   134.0    68.0  109.8  160.9    42.4    38.5   \n",
       "4       1.0       4.0  ...   114.0    54.0   55.2  164.9    20.3    37.4   \n",
       "\n",
       "   BMXARML  BMXARMC  BMXWAIST  HIQ210  \n",
       "0     43.6     35.9     101.1     2.0  \n",
       "1     40.0     33.2     107.9     NaN  \n",
       "2     37.0     31.0     116.5     2.0  \n",
       "3     37.7     38.3     110.1     2.0  \n",
       "4     36.0     27.2      80.4     2.0  \n",
       "\n",
       "[5 rows x 28 columns]"
      ]
     },
     "execution_count": 3,
     "metadata": {},
     "output_type": "execute_result"
    }
   ],
   "source": [
    "da.head()"
   ]
  },
  {
   "cell_type": "markdown",
   "metadata": {},
   "source": [
    "## Question 1\n",
    "\n",
    "Conduct a hypothesis test (at the 0.05 level) for the null hypothesis that the proportion of women who smoke is equal to the proportion of men who smoke."
   ]
  },
  {
   "cell_type": "code",
   "execution_count": 4,
   "metadata": {},
   "outputs": [
    {
     "name": "stdout",
     "output_type": "stream",
     "text": [
      "             Smoke     N\n",
      "RIAGENDR                \n",
      "Female    0.304435  2976\n",
      "Male      0.512142  2759\n",
      "\n",
      " test_stat: -16.01400681759787 \n",
      " p-value: 1.0202277513491146e-57\n"
     ]
    }
   ],
   "source": [
    "# insert your code here\n",
    "dx = da[[\"SMQ020\", \"RIDAGEYR\", \"RIAGENDR\"]].dropna()\n",
    "dx[\"SMQ020\"] = dx.SMQ020.replace({1: \"Yes\", 2: \"No\", 7: np.nan, 9: np.nan})\n",
    "dx[\"RIAGENDR\"] = dx.RIAGENDR.replace({1: \"Male\", 2: \"Female\"})\n",
    "\n",
    "# Summarize the data by caclculating the proportion of yes responses and the sample size\n",
    "p = dx.groupby(\"RIAGENDR\")[\"SMQ020\"].agg([lambda z: np.mean(z==\"Yes\"), \"size\"])\n",
    "p.columns = [\"Smoke\", \"N\"]\n",
    "print(p)\n",
    "\n",
    "# The pooled rate of yes responses, and the standard error of the estimated difference of proportions\n",
    "p_comb = (dx.SMQ020 == \"Yes\").mean()\n",
    "va = p_comb * (1 - p_comb)\n",
    "se = np.sqrt(va * (1 / p.N.Female + 1 / p.N.Male))\n",
    "\n",
    "# Calculate the test statistic and its p-value\n",
    "test_stat = (p.Smoke.Female - p.Smoke.Male) / se\n",
    "pvalue = 2*dist.norm.cdf(-np.abs(test_stat))\n",
    "print('\\n',\"test_stat: \" + str(test_stat),'\\n', \"p-value: \" +str(pvalue))"
   ]
  },
  {
   "cell_type": "markdown",
   "metadata": {},
   "source": [
    "__Q1a.__ Write 1-2 sentences explaining the substance of your findings to someone who does not know anything about statistical hypothesis tests."
   ]
  },
  {
   "cell_type": "markdown",
   "metadata": {},
   "source": [
    "This hypothesis test was conducted to determine if there is a significant difference between the proportion of men and women who smoke. The results show that there is a significant difference, and we can say that there is a larger proportion of men who smoke than women with 95% confidence."
   ]
  },
  {
   "cell_type": "markdown",
   "metadata": {},
   "source": [
    "__Q1b.__ Construct three 95% confidence intervals: one for the proportion of women who smoke, one for the proportion of men who smoke, and one for the difference in the rates of smoking between women and men."
   ]
  },
  {
   "cell_type": "code",
   "execution_count": 5,
   "metadata": {},
   "outputs": [
    {
     "name": "stdout",
     "output_type": "stream",
     "text": [
      "Proportion of Women who smoke Confidence Interval: \n",
      "(0.2879026244757051, 0.3209683432662304)\n",
      "\n",
      "\n",
      "Proportion of Men who smoke Confidence Interval: \n",
      "(0.49349056386167417, 0.5307935970661982)\n",
      "\n",
      "\n",
      "Difference in proportions of Women and Men who smoke Confidence Interval: \n",
      "(-0.2326312298280253, -0.18278196335791153)\n"
     ]
    }
   ],
   "source": [
    "# insert your code here\n",
    "print(\"Proportion of Women who smoke Confidence Interval: \")\n",
    "count_women_smokers = dx.loc[(dx[\"RIAGENDR\"] == \"Female\") & (dx[\"SMQ020\"] == \"Yes\")].shape[0]\n",
    "count_women = dx.loc[(dx[\"RIAGENDR\"] == \"Female\")].shape[0]\n",
    "alpha = 0.5\n",
    "female_conf_interval = proportion_confint(count_women_smokers, count_women, alpha=0.05)\n",
    "print(female_conf_interval)\n",
    "print('\\n')\n",
    "\n",
    "\n",
    "print(\"Proportion of Men who smoke Confidence Interval: \")\n",
    "count_men_smokers = dx.loc[(dx[\"RIAGENDR\"] == \"Male\") & (dx[\"SMQ020\"] == \"Yes\")].shape[0]\n",
    "count_men = dx.loc[(dx[\"RIAGENDR\"] == \"Male\")].shape[0]\n",
    "alpha = 0.5\n",
    "male_conf_interval = proportion_confint(count_men_smokers, count_men, alpha=0.05)\n",
    "print(male_conf_interval)\n",
    "print('\\n')\n",
    "\n",
    "print(\"Difference in proportions of Women and Men who smoke Confidence Interval: \")\n",
    "p_women = count_women_smokers / count_women\n",
    "n_women = count_women\n",
    "se_female = np.sqrt(p_women * (1 - p_women)/n_women)\n",
    "se_female\n",
    "\n",
    "p_men = count_men_smokers/ count_men\n",
    "n_men = count_men\n",
    "se_male = np.sqrt(p_men * (1 - p_men)/ n_men)\n",
    "se_male\n",
    "\n",
    "se_diff = np.sqrt(se_female**2 + se_male**2)\n",
    "se_diff\n",
    "\n",
    "d = p_women - p_men\n",
    "lcb = d - 1.96 * se_diff\n",
    "ucb = d + 1.96 * se_diff\n",
    "print((lcb, ucb))\n"
   ]
  },
  {
   "cell_type": "markdown",
   "metadata": {},
   "source": [
    "__Q1c.__ Comment on any ways in which the confidence intervals that you found in part b reinforce, contradict, or add support to the hypothesis test conducted in part a."
   ]
  },
  {
   "cell_type": "markdown",
   "metadata": {},
   "source": [
    "The first two confidence intervals only let us know with a 95% confidence what the range of likely values is for the proportion of men and women who smoke, but we can see the range for women is significantly less than that for men. THe difference in proportions confidence intervals show a range of all negative values. This supports the conclusion of the previous hypothesis test that daid there was a significantly larger proportion of men who smoke than women."
   ]
  },
  {
   "cell_type": "markdown",
   "metadata": {},
   "source": [
    "## Question 2\n",
    "\n",
    "Partition the population into two groups based on whether a person has graduated college or not, using the educational attainment variable [DMDEDUC2](https://wwwn.cdc.gov/Nchs/Nhanes/2015-2016/DEMO_I.htm#DMDEDUC2).  Then conduct a test of the null hypothesis that the average heights (in centimeters) of the two groups are equal.  Next, convert the heights from centimeters to inches, and conduct a test of the null hypothesis that the average heights (in inches) of the two groups are equal."
   ]
  },
  {
   "cell_type": "code",
   "execution_count": 6,
   "metadata": {
    "scrolled": true
   },
   "outputs": [
    {
     "data": {
      "text/html": [
       "<div>\n",
       "<style scoped>\n",
       "    .dataframe tbody tr th:only-of-type {\n",
       "        vertical-align: middle;\n",
       "    }\n",
       "\n",
       "    .dataframe tbody tr th {\n",
       "        vertical-align: top;\n",
       "    }\n",
       "\n",
       "    .dataframe thead th {\n",
       "        text-align: right;\n",
       "    }\n",
       "</style>\n",
       "<table border=\"1\" class=\"dataframe\">\n",
       "  <thead>\n",
       "    <tr style=\"text-align: right;\">\n",
       "      <th></th>\n",
       "      <th>SEQN</th>\n",
       "      <th>ALQ101</th>\n",
       "      <th>ALQ110</th>\n",
       "      <th>ALQ130</th>\n",
       "      <th>SMQ020</th>\n",
       "      <th>RIAGENDR</th>\n",
       "      <th>RIDAGEYR</th>\n",
       "      <th>RIDRETH1</th>\n",
       "      <th>DMDCITZN</th>\n",
       "      <th>DMDEDUC2</th>\n",
       "      <th>...</th>\n",
       "      <th>BPXSY2</th>\n",
       "      <th>BPXDI2</th>\n",
       "      <th>BMXWT</th>\n",
       "      <th>BMXHT</th>\n",
       "      <th>BMXBMI</th>\n",
       "      <th>BMXLEG</th>\n",
       "      <th>BMXARML</th>\n",
       "      <th>BMXARMC</th>\n",
       "      <th>BMXWAIST</th>\n",
       "      <th>HIQ210</th>\n",
       "    </tr>\n",
       "  </thead>\n",
       "  <tbody>\n",
       "    <tr>\n",
       "      <th>0</th>\n",
       "      <td>83732</td>\n",
       "      <td>1.0</td>\n",
       "      <td>NaN</td>\n",
       "      <td>1.0</td>\n",
       "      <td>1</td>\n",
       "      <td>1</td>\n",
       "      <td>62</td>\n",
       "      <td>3</td>\n",
       "      <td>1.0</td>\n",
       "      <td>5.0</td>\n",
       "      <td>...</td>\n",
       "      <td>124.0</td>\n",
       "      <td>64.0</td>\n",
       "      <td>94.8</td>\n",
       "      <td>184.5</td>\n",
       "      <td>27.8</td>\n",
       "      <td>43.3</td>\n",
       "      <td>43.6</td>\n",
       "      <td>35.9</td>\n",
       "      <td>101.1</td>\n",
       "      <td>2.0</td>\n",
       "    </tr>\n",
       "    <tr>\n",
       "      <th>1</th>\n",
       "      <td>83733</td>\n",
       "      <td>1.0</td>\n",
       "      <td>NaN</td>\n",
       "      <td>6.0</td>\n",
       "      <td>1</td>\n",
       "      <td>1</td>\n",
       "      <td>53</td>\n",
       "      <td>3</td>\n",
       "      <td>2.0</td>\n",
       "      <td>3.0</td>\n",
       "      <td>...</td>\n",
       "      <td>140.0</td>\n",
       "      <td>88.0</td>\n",
       "      <td>90.4</td>\n",
       "      <td>171.4</td>\n",
       "      <td>30.8</td>\n",
       "      <td>38.0</td>\n",
       "      <td>40.0</td>\n",
       "      <td>33.2</td>\n",
       "      <td>107.9</td>\n",
       "      <td>NaN</td>\n",
       "    </tr>\n",
       "    <tr>\n",
       "      <th>2</th>\n",
       "      <td>83734</td>\n",
       "      <td>1.0</td>\n",
       "      <td>NaN</td>\n",
       "      <td>NaN</td>\n",
       "      <td>1</td>\n",
       "      <td>1</td>\n",
       "      <td>78</td>\n",
       "      <td>3</td>\n",
       "      <td>1.0</td>\n",
       "      <td>3.0</td>\n",
       "      <td>...</td>\n",
       "      <td>132.0</td>\n",
       "      <td>44.0</td>\n",
       "      <td>83.4</td>\n",
       "      <td>170.1</td>\n",
       "      <td>28.8</td>\n",
       "      <td>35.6</td>\n",
       "      <td>37.0</td>\n",
       "      <td>31.0</td>\n",
       "      <td>116.5</td>\n",
       "      <td>2.0</td>\n",
       "    </tr>\n",
       "    <tr>\n",
       "      <th>3</th>\n",
       "      <td>83735</td>\n",
       "      <td>2.0</td>\n",
       "      <td>1.0</td>\n",
       "      <td>1.0</td>\n",
       "      <td>2</td>\n",
       "      <td>2</td>\n",
       "      <td>56</td>\n",
       "      <td>3</td>\n",
       "      <td>1.0</td>\n",
       "      <td>5.0</td>\n",
       "      <td>...</td>\n",
       "      <td>134.0</td>\n",
       "      <td>68.0</td>\n",
       "      <td>109.8</td>\n",
       "      <td>160.9</td>\n",
       "      <td>42.4</td>\n",
       "      <td>38.5</td>\n",
       "      <td>37.7</td>\n",
       "      <td>38.3</td>\n",
       "      <td>110.1</td>\n",
       "      <td>2.0</td>\n",
       "    </tr>\n",
       "    <tr>\n",
       "      <th>4</th>\n",
       "      <td>83736</td>\n",
       "      <td>2.0</td>\n",
       "      <td>1.0</td>\n",
       "      <td>1.0</td>\n",
       "      <td>2</td>\n",
       "      <td>2</td>\n",
       "      <td>42</td>\n",
       "      <td>4</td>\n",
       "      <td>1.0</td>\n",
       "      <td>4.0</td>\n",
       "      <td>...</td>\n",
       "      <td>114.0</td>\n",
       "      <td>54.0</td>\n",
       "      <td>55.2</td>\n",
       "      <td>164.9</td>\n",
       "      <td>20.3</td>\n",
       "      <td>37.4</td>\n",
       "      <td>36.0</td>\n",
       "      <td>27.2</td>\n",
       "      <td>80.4</td>\n",
       "      <td>2.0</td>\n",
       "    </tr>\n",
       "  </tbody>\n",
       "</table>\n",
       "<p>5 rows × 28 columns</p>\n",
       "</div>"
      ],
      "text/plain": [
       "    SEQN  ALQ101  ALQ110  ALQ130  SMQ020  RIAGENDR  RIDAGEYR  RIDRETH1  \\\n",
       "0  83732     1.0     NaN     1.0       1         1        62         3   \n",
       "1  83733     1.0     NaN     6.0       1         1        53         3   \n",
       "2  83734     1.0     NaN     NaN       1         1        78         3   \n",
       "3  83735     2.0     1.0     1.0       2         2        56         3   \n",
       "4  83736     2.0     1.0     1.0       2         2        42         4   \n",
       "\n",
       "   DMDCITZN  DMDEDUC2  ...  BPXSY2  BPXDI2  BMXWT  BMXHT  BMXBMI  BMXLEG  \\\n",
       "0       1.0       5.0  ...   124.0    64.0   94.8  184.5    27.8    43.3   \n",
       "1       2.0       3.0  ...   140.0    88.0   90.4  171.4    30.8    38.0   \n",
       "2       1.0       3.0  ...   132.0    44.0   83.4  170.1    28.8    35.6   \n",
       "3       1.0       5.0  ...   134.0    68.0  109.8  160.9    42.4    38.5   \n",
       "4       1.0       4.0  ...   114.0    54.0   55.2  164.9    20.3    37.4   \n",
       "\n",
       "   BMXARML  BMXARMC  BMXWAIST  HIQ210  \n",
       "0     43.6     35.9     101.1     2.0  \n",
       "1     40.0     33.2     107.9     NaN  \n",
       "2     37.0     31.0     116.5     2.0  \n",
       "3     37.7     38.3     110.1     2.0  \n",
       "4     36.0     27.2      80.4     2.0  \n",
       "\n",
       "[5 rows x 28 columns]"
      ]
     },
     "execution_count": 6,
     "metadata": {},
     "output_type": "execute_result"
    }
   ],
   "source": [
    "da.head()"
   ]
  },
  {
   "cell_type": "code",
   "execution_count": 7,
   "metadata": {},
   "outputs": [],
   "source": [
    "da.loc[da['DMDEDUC2'] == 5, 'DMDEDUC2'] = \"Yes\"\n",
    "da.loc[da['DMDEDUC2'] != \"Yes\", 'DMDEDUC2'] = \"No\""
   ]
  },
  {
   "cell_type": "code",
   "execution_count": 13,
   "metadata": {},
   "outputs": [
    {
     "name": "stdout",
     "output_type": "stream",
     "text": [
      "Centimeter height test results: \n",
      "t_stat: 7.2007656698012505\n",
      "p_value: 5.987537169067422e-13\n",
      "\n",
      "\n",
      "Inches height test results: \n",
      "t_stat: 7.200765669801254\n",
      "p_value: 5.987537169067249e-13\n"
     ]
    }
   ],
   "source": [
    "# insert your code here\n",
    "graduated_height_cent = da.loc[da['DMDEDUC2'] == \"Yes\", \"BMXHT\"].dropna()\n",
    "not_graduated_height_cent = da.loc[da['DMDEDUC2'] != \"Yes\", \"BMXHT\"].dropna()\n",
    "\n",
    "t_stat, p_value = sm.stats.ztest(graduated_height_cent, not_graduated_height_cent)\n",
    "print(\"Centimeter height test results: \")\n",
    "print('t_stat: ' + str(t_stat))\n",
    "print('p_value: ' + str(p_value))\n",
    "print('\\n')\n",
    "\n",
    "da['BMXHTINCH'] = da['BMXHT'] / 2.54\n",
    "graduated_height_inch = da.loc[da['DMDEDUC2'] == \"Yes\", \"BMXHTINCH\"].dropna()\n",
    "not_graduated_height_inch = da.loc[da['DMDEDUC2'] != \"Yes\", \"BMXHTINCH\"].dropna()\n",
    "\n",
    "t_stat, p_value = sm.stats.ztest(graduated_height_inch, not_graduated_height_inch)\n",
    "print(\"Inches height test results: \")\n",
    "print('t_stat: ' + str(t_stat))\n",
    "print('p_value: ' + str(p_value))"
   ]
  },
  {
   "cell_type": "markdown",
   "metadata": {},
   "source": [
    "__Q2a.__ Based on the analysis performed here, are you confident that people who graduated from college have a different average height compared to people who did not graduate from college?"
   ]
  },
  {
   "cell_type": "markdown",
   "metadata": {},
   "source": [
    "The results of our hypothesis test show a p-value that is less than our critical value. This means that we can reject the null hypothesis and state that there is a statistically significant difference."
   ]
  },
  {
   "cell_type": "markdown",
   "metadata": {},
   "source": [
    "__Q2b:__ How do the results obtained using the heights expressed in inches compare to the results obtained using the heights expressed in centimeters?"
   ]
  },
  {
   "cell_type": "markdown",
   "metadata": {},
   "source": [
    "The results do not change at all between the two tests because changing the measurement type does not change the values of the actual measurements."
   ]
  },
  {
   "cell_type": "markdown",
   "metadata": {},
   "source": [
    "## Question 3\n",
    "\n",
    "Conduct a hypothesis test of the null hypothesis that the average BMI for men between 30 and 40 is equal to the average BMI for men between 50 and 60.  Then carry out this test again after log transforming the BMI values."
   ]
  },
  {
   "cell_type": "code",
   "execution_count": 24,
   "metadata": {},
   "outputs": [
    {
     "name": "stdout",
     "output_type": "stream",
     "text": [
      "Age bracket average BMI comparison test results: \n",
      "t_stat: 0.8984008016755222\n",
      "p_value: 0.36897190924214873\n",
      "\n",
      "\n",
      "Age bracket average BMI comparison test results: \n",
      "t_stat: 0.7057844184100666\n",
      "p_value: 0.4803222133688403\n"
     ]
    }
   ],
   "source": [
    "# insert your code here\n",
    "men_30_40_bmi = da.loc[(da['RIDAGEYR'] >= 30) & (da['RIDAGEYR'] <= 40) & (dx[\"RIAGENDR\"] == \"Male\"), \"BMXBMI\"].dropna()\n",
    "men_50_60_bmi = da.loc[(da['RIDAGEYR'] >= 50) & (da['RIDAGEYR'] <= 60) & (dx[\"RIAGENDR\"] == \"Male\"), \"BMXBMI\"].dropna()\n",
    "\n",
    "t_stat, p_value = sm.stats.ztest(men_30_40_bmi, men_50_60_bmi)\n",
    "print(\"Age bracket average BMI comparison test results: \")\n",
    "print('t_stat: ' + str(t_stat))\n",
    "print('p_value: ' + str(p_value))\n",
    "print('\\n')\n",
    "\n",
    "da['BMXBMILOG'] = np.log(da['BMXBMI'])\n",
    "men_30_40_bmi_log = da.loc[(da['RIDAGEYR'] >= 30) & (da['RIDAGEYR'] <= 40) & (dx[\"RIAGENDR\"] == \"Male\"), \"BMXBMILOG\"].dropna()\n",
    "men_50_60_bmi_log = da.loc[(da['RIDAGEYR'] >= 50) & (da['RIDAGEYR'] <= 60) & (dx[\"RIAGENDR\"] == \"Male\"), \"BMXBMILOG\"].dropna()\n",
    "\n",
    "t_stat, p_value = sm.stats.ztest(men_30_40_bmi_log, men_50_60_bmi_log)\n",
    "print(\"Age bracket average BMI comparison test results: \")\n",
    "print('t_stat: ' + str(t_stat))\n",
    "print('p_value: ' + str(p_value))"
   ]
  },
  {
   "cell_type": "markdown",
   "metadata": {},
   "source": [
    "__Q3a.__ How would you characterize the evidence that mean BMI differs between these age bands, and how would you characterize the evidence that mean log BMI differs between these age bands?"
   ]
  },
  {
   "cell_type": "markdown",
   "metadata": {},
   "source": [
    "Neither of these hypothesis tests produced sufficient evidence to reject the null hypothesis which states there is no difference in BMI between the two age bands."
   ]
  },
  {
   "cell_type": "markdown",
   "metadata": {},
   "source": [
    "## Question 4\n",
    "\n",
    "Suppose we wish to compare the mean BMI between college graduates and people who have not graduated from college, focusing on women between the ages of 30 and 40.  First, consider the variance of BMI within each of these subpopulations using graphical techniques, and through the estimated subpopulation variances.  Then, calculate pooled and unpooled estimates of the standard error for the difference between the mean BMI in the two populations being compared.  Finally, test the null hypothesis that the two population means are equal, using each of the two different standard errors."
   ]
  },
  {
   "cell_type": "code",
   "execution_count": 25,
   "metadata": {},
   "outputs": [],
   "source": [
    "women_30_40_graduated = da.loc[(da['RIDAGEYR'] >= 30) & (da['RIDAGEYR'] <= 40) & (dx[\"RIAGENDR\"] == \"Female\") & (da['DMDEDUC2'] == \"Yes\")]\n",
    "women_30_40_not_graduated = da.loc[(da['RIDAGEYR'] >= 30) & (da['RIDAGEYR'] <= 40) & (dx[\"RIAGENDR\"] == \"Female\") & (da['DMDEDUC2'] != \"Yes\")]"
   ]
  },
  {
   "cell_type": "code",
   "execution_count": 63,
   "metadata": {},
   "outputs": [
    {
     "data": {
      "text/plain": [
       "[Text(0,0,'Graduated'), Text(0,0,'Not Graduated')]"
      ]
     },
     "execution_count": 63,
     "metadata": {},
     "output_type": "execute_result"
    },
    {
     "data": {
      "image/png": "[encoded data removed]",
      "text/plain": [
       "<Figure size 432x288 with 1 Axes>"
      ]
     },
     "metadata": {},
     "output_type": "display_data"
    }
   ],
   "source": [
    "ax = sns.boxplot(data=[women_30_40_graduated['BMXBMI'], women_30_40_not_graduated['BMXBMI']])\n",
    "ax.set_xticklabels([\"Graduated\",\"Not Graduated\"])"
   ]
  },
  {
   "cell_type": "code",
   "execution_count": 101,
   "metadata": {},
   "outputs": [
    {
     "name": "stdout",
     "output_type": "stream",
     "text": [
      "women_30_40_graduated variance: 54.14405022359821\n",
      "women_30_40_graduated variance: 68.16290624349801\n",
      "\n",
      "\n",
      "pooled :  (-4.643908450956424, 3.4187910067116893e-06)\n",
      "unequal:  (-4.833662355599101, 1.340438616920389e-06)\n"
     ]
    }
   ],
   "source": [
    "# insert your code here\n",
    "print(\"women_30_40_graduated variance: \" +str(women_30_40_graduated['BMXBMI'].var()))\n",
    "print(\"women_30_40_graduated variance: \" +str(women_30_40_not_graduated['BMXBMI'].var()))\n",
    "print('\\n')\n",
    "\n",
    "bmi_graduated = women_30_40_graduated['BMXBMI'].dropna()\n",
    "bmi_graduated = sm.stats.DescrStatsW(bmi_graduated)\n",
    "bmi_not_graduated = women_30_40_not_graduated['BMXBMI'].dropna()\n",
    "bmi_not_graduated = sm.stats.DescrStatsW(bmi_not_graduated)\n",
    "\n",
    "print(\"pooled : \", sm.stats.CompareMeans(bmi_graduated, bmi_not_graduated).ztest_ind(usevar='pooled'))\n",
    "print(\"unequal: \", sm.stats.CompareMeans(bmi_graduated, bmi_not_graduated).ztest_ind(usevar='unequal'))"
   ]
  },
  {
   "cell_type": "markdown",
   "metadata": {},
   "source": [
    "__Q4a.__ Comment on the strength of evidence against the null hypothesis that these two populations have equal mean BMI."
   ]
  },
  {
   "cell_type": "markdown",
   "metadata": {},
   "source": [
    "Both of these statistical tests yeilded results that state our data has strong evidence against the null hypothesis, leading us to the decision to reject the null hypothesis."
   ]
  },
  {
   "cell_type": "markdown",
   "metadata": {},
   "source": [
    "__Q4b.__ Comment on the degree to which the two populations have different variances, and on the extent to which the results using different approaches to estimating the standard error of the mean difference give divergent results."
   ]
  },
  {
   "cell_type": "markdown",
   "metadata": {},
   "source": [
    "The two samples have differing variances, although not enough to effect the results of a pooled vs unpooled approach to the hypothesis test."
   ]
  },
  {
   "cell_type": "markdown",
   "metadata": {},
   "source": [
    "## Question 5\n",
    "\n",
    "Conduct a test of the null hypothesis that the first and second diastolic blood pressure measurements within a subject have the same mean values."
   ]
  },
  {
   "cell_type": "code",
   "execution_count": 115,
   "metadata": {},
   "outputs": [
    {
     "name": "stdout",
     "output_type": "stream",
     "text": [
      "0.3490407897187558\n"
     ]
    },
    {
     "data": {
      "text/plain": [
       "(4.140387087476751, 3.467202439743513e-05)"
      ]
     },
     "execution_count": 115,
     "metadata": {},
     "output_type": "execute_result"
    }
   ],
   "source": [
    "# insert your code here\n",
    "dx = da[[\"BPXDI1\", \"BPXDI2\"]].dropna()\n",
    "db = dx.BPXDI1 - dx.BPXDI2\n",
    "print(db.mean())\n",
    "sm.stats.ztest(db)"
   ]
  },
  {
   "cell_type": "markdown",
   "metadata": {},
   "source": [
    "__Q5a.__ Briefly describe your findings for an audience that is not familiar with statistical hypothesis testing."
   ]
  },
  {
   "cell_type": "markdown",
   "metadata": {},
   "source": [
    "There is unsufficient evidence to reject the null hypothesis. This means we cannot say with confidence that there is a statsitically significant difference between the two means."
   ]
  },
  {
   "cell_type": "markdown",
   "metadata": {},
   "source": [
    "__Q5b.__ Pretend that the first and second diastolic blood pressure measurements were taken on different people.  Modfify the analysis above as appropriate for this setting."
   ]
  },
  {
   "cell_type": "code",
   "execution_count": 121,
   "metadata": {},
   "outputs": [
    {
     "name": "stdout",
     "output_type": "stream",
     "text": [
      "t_stat: 1.405785955157218\n",
      "p_value: 0.15978769381769953\n"
     ]
    }
   ],
   "source": [
    "# insert your code here\n",
    "BPXDI1 = dx.BPXDI1.dropna()\n",
    "BPXDI2 = dx.BPXDI2.dropna()\n",
    "t_stat, p_value = sm.stats.ztest(BPXDI1, BPXDI2)\n",
    "print('t_stat: ' + str(t_stat))\n",
    "print('p_value: ' + str(p_value))"
   ]
  },
  {
   "cell_type": "markdown",
   "metadata": {},
   "source": [
    "__Q5c.__ Briefly describe how the approaches used and the results obtained in the preceeding two parts of the question differ."
   ]
  },
  {
   "cell_type": "markdown",
   "metadata": {},
   "source": [
    "The first approach is for paired data where the data is collected from the same individual while the second is not. The two different methods provide us with two different resulting answers on whether or not to reject the null hypothesis."
   ]
  }
 ],
 "metadata": {
  "kernelspec": {
   "display_name": "Python 3",
   "language": "python",
   "name": "python3"
  },
  "language_info": {
   "codemirror_mode": {
    "name": "ipython",
    "version": 3
   },
   "file_extension": ".py",
   "mimetype": "text/x-python",
   "name": "python",
   "nbconvert_exporter": "python",
   "pygments_lexer": "ipython3",
   "version": "3.6.3"
  }
 },
 "nbformat": 4,
 "nbformat_minor": 2
}
