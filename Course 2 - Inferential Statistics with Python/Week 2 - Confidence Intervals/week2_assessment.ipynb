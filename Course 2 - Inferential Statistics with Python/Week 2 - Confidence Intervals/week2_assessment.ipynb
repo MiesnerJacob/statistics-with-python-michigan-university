{
 "cells": [
  {
   "cell_type": "markdown",
   "metadata": {
    "colab_type": "text",
    "id": "8BYZBHWdMyV4"
   },
   "source": [
    "## Confidence intervals in python\n",
    "In this assessment, you will look at data from a study on toddler sleep habits. \n",
    "\n",
    "The confidence intervals you create and the questions you answer in this Jupyter notebook will be used to answer questions in the following graded assignment."
   ]
  },
  {
   "cell_type": "code",
   "execution_count": 1,
   "metadata": {
    "colab": {},
    "colab_type": "code",
    "id": "XgFyiBR-MyV6"
   },
   "outputs": [],
   "source": [
    "import numpy as np\n",
    "import pandas as pd\n",
    "from scipy.stats import t\n",
    "pd.set_option('display.max_columns', 30) # set so can see all columns of the DataFrame"
   ]
  },
  {
   "cell_type": "markdown",
   "metadata": {
    "colab_type": "text",
    "id": "Tdw2MXJrMyWA"
   },
   "source": [
    "Your goal is to analyse data which is the result of a study that examined\n",
    "differences in a number of sleep variables between napping and non-napping toddlers. Some of these\n",
    "sleep variables included: Bedtime (lights-off time in decimalized time), Night Sleep Onset Time (in\n",
    "decimalized time), Wake Time (sleep end time in decimalized time), Night Sleep Duration (interval\n",
    "between sleep onset and sleep end in minutes), and Total 24-Hour Sleep Duration (in minutes). Note:\n",
    "[Decimalized time](https://en.wikipedia.org/wiki/Decimal_time) is the representation of the time of day using units which are decimally related.   \n",
    "\n",
    "\n",
    "The 20 study participants were healthy, normally developing toddlers with no sleep or behavioral\n",
    "problems. These children were categorized as napping or non-napping based upon parental report of\n",
    "children’s habitual sleep patterns. Researchers then verified napping status with data from actigraphy (a\n",
    "non-invasive method of monitoring human rest/activity cycles by wearing of a sensor on the wrist) and\n",
    "sleep diaries during the 5 days before the study assessments were made.\n",
    "\n",
    "\n",
    "You are specifically interested in the results for Bedtime. "
   ]
  },
  {
   "cell_type": "markdown",
   "metadata": {
    "colab_type": "text",
    "id": "qZeYAvHRMyWC"
   },
   "source": [
    "Reference: Akacem LD, Simpkin CT, Carskadon MA, Wright KP Jr, Jenni OG, Achermann P, et al. (2015) The Timing of the Circadian Clock and Sleep Differ between Napping and Non-Napping Toddlers. PLoS ONE 10(4): e0125181. https://doi.org/10.1371/journal.pone.0125181"
   ]
  },
  {
   "cell_type": "code",
   "execution_count": 2,
   "metadata": {
    "colab": {},
    "colab_type": "code",
    "id": "tY3EqOuoMyWD"
   },
   "outputs": [],
   "source": [
    "# Import the data\n",
    "df = pd.read_csv(\"nap_no_nap.csv\") "
   ]
  },
  {
   "cell_type": "code",
   "execution_count": 3,
   "metadata": {
    "colab": {},
    "colab_type": "code",
    "id": "pcjLN7goMyWH"
   },
   "outputs": [
    {
     "data": {
      "text/html": [
       "<div>\n",
       "<style scoped>\n",
       "    .dataframe tbody tr th:only-of-type {\n",
       "        vertical-align: middle;\n",
       "    }\n",
       "\n",
       "    .dataframe tbody tr th {\n",
       "        vertical-align: top;\n",
       "    }\n",
       "\n",
       "    .dataframe thead th {\n",
       "        text-align: right;\n",
       "    }\n",
       "</style>\n",
       "<table border=\"1\" class=\"dataframe\">\n",
       "  <thead>\n",
       "    <tr style=\"text-align: right;\">\n",
       "      <th></th>\n",
       "      <th>id</th>\n",
       "      <th>sex</th>\n",
       "      <th>age (months)</th>\n",
       "      <th>dlmo time</th>\n",
       "      <th>days napped</th>\n",
       "      <th>napping</th>\n",
       "      <th>nap lights outl time</th>\n",
       "      <th>nap sleep onset</th>\n",
       "      <th>nap midsleep</th>\n",
       "      <th>nap sleep offset</th>\n",
       "      <th>nap wake time</th>\n",
       "      <th>nap duration</th>\n",
       "      <th>nap time in bed</th>\n",
       "      <th>night bedtime</th>\n",
       "      <th>night sleep onset</th>\n",
       "      <th>sleep onset latency</th>\n",
       "      <th>night midsleep time</th>\n",
       "      <th>night wake time</th>\n",
       "      <th>night sleep duration</th>\n",
       "      <th>night time in bed</th>\n",
       "      <th>24 h sleep duration</th>\n",
       "      <th>bedtime phase difference</th>\n",
       "      <th>sleep onset phase difference</th>\n",
       "      <th>midsleep phase difference</th>\n",
       "      <th>wake time phase difference</th>\n",
       "    </tr>\n",
       "  </thead>\n",
       "  <tbody>\n",
       "    <tr>\n",
       "      <th>0</th>\n",
       "      <td>1</td>\n",
       "      <td>female</td>\n",
       "      <td>33.7</td>\n",
       "      <td>19.24</td>\n",
       "      <td>0</td>\n",
       "      <td>0</td>\n",
       "      <td>NaN</td>\n",
       "      <td>NaN</td>\n",
       "      <td>NaN</td>\n",
       "      <td>NaN</td>\n",
       "      <td>NaN</td>\n",
       "      <td>NaN</td>\n",
       "      <td>NaN</td>\n",
       "      <td>20.45</td>\n",
       "      <td>20.68</td>\n",
       "      <td>0.23</td>\n",
       "      <td>1.92</td>\n",
       "      <td>7.17</td>\n",
       "      <td>629.4</td>\n",
       "      <td>643.0</td>\n",
       "      <td>629.4</td>\n",
       "      <td>-1.21</td>\n",
       "      <td>-1.44</td>\n",
       "      <td>6.68</td>\n",
       "      <td>11.93</td>\n",
       "    </tr>\n",
       "    <tr>\n",
       "      <th>1</th>\n",
       "      <td>2</td>\n",
       "      <td>female</td>\n",
       "      <td>31.5</td>\n",
       "      <td>18.27</td>\n",
       "      <td>0</td>\n",
       "      <td>0</td>\n",
       "      <td>NaN</td>\n",
       "      <td>NaN</td>\n",
       "      <td>NaN</td>\n",
       "      <td>NaN</td>\n",
       "      <td>NaN</td>\n",
       "      <td>NaN</td>\n",
       "      <td>NaN</td>\n",
       "      <td>19.23</td>\n",
       "      <td>19.48</td>\n",
       "      <td>0.25</td>\n",
       "      <td>1.09</td>\n",
       "      <td>6.69</td>\n",
       "      <td>672.4</td>\n",
       "      <td>700.4</td>\n",
       "      <td>672.4</td>\n",
       "      <td>-0.96</td>\n",
       "      <td>-1.21</td>\n",
       "      <td>6.82</td>\n",
       "      <td>12.42</td>\n",
       "    </tr>\n",
       "    <tr>\n",
       "      <th>2</th>\n",
       "      <td>3</td>\n",
       "      <td>male</td>\n",
       "      <td>31.9</td>\n",
       "      <td>19.14</td>\n",
       "      <td>0</td>\n",
       "      <td>0</td>\n",
       "      <td>NaN</td>\n",
       "      <td>NaN</td>\n",
       "      <td>NaN</td>\n",
       "      <td>NaN</td>\n",
       "      <td>NaN</td>\n",
       "      <td>NaN</td>\n",
       "      <td>NaN</td>\n",
       "      <td>19.60</td>\n",
       "      <td>20.05</td>\n",
       "      <td>0.45</td>\n",
       "      <td>1.29</td>\n",
       "      <td>6.53</td>\n",
       "      <td>628.8</td>\n",
       "      <td>682.6</td>\n",
       "      <td>628.8</td>\n",
       "      <td>-0.46</td>\n",
       "      <td>-0.91</td>\n",
       "      <td>6.15</td>\n",
       "      <td>11.39</td>\n",
       "    </tr>\n",
       "    <tr>\n",
       "      <th>3</th>\n",
       "      <td>4</td>\n",
       "      <td>female</td>\n",
       "      <td>31.6</td>\n",
       "      <td>19.69</td>\n",
       "      <td>0</td>\n",
       "      <td>0</td>\n",
       "      <td>NaN</td>\n",
       "      <td>NaN</td>\n",
       "      <td>NaN</td>\n",
       "      <td>NaN</td>\n",
       "      <td>NaN</td>\n",
       "      <td>NaN</td>\n",
       "      <td>NaN</td>\n",
       "      <td>19.46</td>\n",
       "      <td>19.50</td>\n",
       "      <td>0.05</td>\n",
       "      <td>1.89</td>\n",
       "      <td>8.28</td>\n",
       "      <td>766.6</td>\n",
       "      <td>784.0</td>\n",
       "      <td>766.6</td>\n",
       "      <td>0.23</td>\n",
       "      <td>0.19</td>\n",
       "      <td>6.20</td>\n",
       "      <td>12.59</td>\n",
       "    </tr>\n",
       "    <tr>\n",
       "      <th>4</th>\n",
       "      <td>5</td>\n",
       "      <td>female</td>\n",
       "      <td>33.0</td>\n",
       "      <td>19.52</td>\n",
       "      <td>0</td>\n",
       "      <td>0</td>\n",
       "      <td>NaN</td>\n",
       "      <td>NaN</td>\n",
       "      <td>NaN</td>\n",
       "      <td>NaN</td>\n",
       "      <td>NaN</td>\n",
       "      <td>NaN</td>\n",
       "      <td>NaN</td>\n",
       "      <td>19.21</td>\n",
       "      <td>19.65</td>\n",
       "      <td>0.45</td>\n",
       "      <td>1.30</td>\n",
       "      <td>6.95</td>\n",
       "      <td>678.0</td>\n",
       "      <td>718.0</td>\n",
       "      <td>678.0</td>\n",
       "      <td>0.31</td>\n",
       "      <td>-0.13</td>\n",
       "      <td>5.78</td>\n",
       "      <td>11.43</td>\n",
       "    </tr>\n",
       "  </tbody>\n",
       "</table>\n",
       "</div>"
      ],
      "text/plain": [
       "   id     sex  age (months)  dlmo time  days napped  napping  \\\n",
       "0   1  female          33.7      19.24            0        0   \n",
       "1   2  female          31.5      18.27            0        0   \n",
       "2   3    male          31.9      19.14            0        0   \n",
       "3   4  female          31.6      19.69            0        0   \n",
       "4   5  female          33.0      19.52            0        0   \n",
       "\n",
       "   nap lights outl time  nap sleep onset  nap midsleep  nap sleep offset  \\\n",
       "0                   NaN              NaN           NaN               NaN   \n",
       "1                   NaN              NaN           NaN               NaN   \n",
       "2                   NaN              NaN           NaN               NaN   \n",
       "3                   NaN              NaN           NaN               NaN   \n",
       "4                   NaN              NaN           NaN               NaN   \n",
       "\n",
       "   nap wake time  nap duration  nap time in bed  night bedtime  \\\n",
       "0            NaN           NaN              NaN          20.45   \n",
       "1            NaN           NaN              NaN          19.23   \n",
       "2            NaN           NaN              NaN          19.60   \n",
       "3            NaN           NaN              NaN          19.46   \n",
       "4            NaN           NaN              NaN          19.21   \n",
       "\n",
       "   night sleep onset  sleep onset latency  night midsleep time  \\\n",
       "0              20.68                 0.23                 1.92   \n",
       "1              19.48                 0.25                 1.09   \n",
       "2              20.05                 0.45                 1.29   \n",
       "3              19.50                 0.05                 1.89   \n",
       "4              19.65                 0.45                 1.30   \n",
       "\n",
       "   night wake time  night sleep duration  night time in bed  \\\n",
       "0             7.17                 629.4              643.0   \n",
       "1             6.69                 672.4              700.4   \n",
       "2             6.53                 628.8              682.6   \n",
       "3             8.28                 766.6              784.0   \n",
       "4             6.95                 678.0              718.0   \n",
       "\n",
       "   24 h sleep duration  bedtime phase difference  \\\n",
       "0                629.4                     -1.21   \n",
       "1                672.4                     -0.96   \n",
       "2                628.8                     -0.46   \n",
       "3                766.6                      0.23   \n",
       "4                678.0                      0.31   \n",
       "\n",
       "   sleep onset phase difference  midsleep phase difference  \\\n",
       "0                         -1.44                       6.68   \n",
       "1                         -1.21                       6.82   \n",
       "2                         -0.91                       6.15   \n",
       "3                          0.19                       6.20   \n",
       "4                         -0.13                       5.78   \n",
       "\n",
       "   wake time phase difference  \n",
       "0                       11.93  \n",
       "1                       12.42  \n",
       "2                       11.39  \n",
       "3                       12.59  \n",
       "4                       11.43  "
      ]
     },
     "execution_count": 3,
     "metadata": {},
     "output_type": "execute_result"
    }
   ],
   "source": [
    "# First, look at the DataFrame to get a sense of the data\n",
    "df.head()"
   ]
  },
  {
   "cell_type": "markdown",
   "metadata": {
    "colab_type": "text",
    "id": "38Oy8dWVMyWM"
   },
   "source": [
    "**Question**: What value is used in the column 'napping' to indicate a toddler takes a nap? (see reference article)  \n",
    "\n",
    "**Answer**: 1 for toddler who naps and 0 for toddler who does not."
   ]
  },
  {
   "cell_type": "markdown",
   "metadata": {},
   "source": [
    "**Question**: What is the overall sample size $n$? What is the sample size for toddlers who nap, $n_1$, and toddlers who don't nap, $n_2$?"
   ]
  },
  {
   "cell_type": "markdown",
   "metadata": {},
   "source": [
    "**Answer**: "
   ]
  },
  {
   "cell_type": "code",
   "execution_count": 4,
   "metadata": {},
   "outputs": [
    {
     "name": "stdout",
     "output_type": "stream",
     "text": [
      "Sample size of napping toddlers:\n",
      "15\n",
      "\n",
      "\n",
      "Sample size of non-napping toddlers:\n",
      "5\n"
     ]
    }
   ],
   "source": [
    "nap = df.loc[df['napping'] == 1].shape[0]\n",
    "no_nap = df.loc[df['napping'] == 0].shape[0]\n",
    "\n",
    "print('Sample size of napping toddlers:')\n",
    "print(nap)\n",
    "print('\\n')\n",
    "\n",
    "print('Sample size of non-napping toddlers:')\n",
    "print(no_nap)"
   ]
  },
  {
   "cell_type": "markdown",
   "metadata": {
    "colab_type": "text",
    "id": "2sPjUew6MyWN"
   },
   "source": [
    "### Average bedtime confidence interval for napping and non napping toddlers\n",
    "Create two 95% confidence intervals for the average bedtime, one for toddler who nap and one for toddlers who don't."
   ]
  },
  {
   "cell_type": "markdown",
   "metadata": {
    "colab_type": "text",
    "id": "u4kYFl3OMyWR"
   },
   "source": [
    "First, isolate the column 'night bedtime' for those who nap into a new variable, and those who didn't nap into another new variable. "
   ]
  },
  {
   "cell_type": "code",
   "execution_count": 5,
   "metadata": {
    "colab": {},
    "colab_type": "code",
    "id": "umYCPgifMyWT"
   },
   "outputs": [],
   "source": [
    "bedtime_nap = df.loc[df['napping'] == 1, 'night bedtime']"
   ]
  },
  {
   "cell_type": "code",
   "execution_count": 6,
   "metadata": {
    "colab": {},
    "colab_type": "code",
    "id": "Jgv1CweOMyWU"
   },
   "outputs": [],
   "source": [
    "bedtime_no_nap = df.loc[df['napping'] == 0, 'night bedtime']"
   ]
  },
  {
   "cell_type": "markdown",
   "metadata": {
    "colab_type": "text",
    "id": "w7D04IiqMyWX"
   },
   "source": [
    "Now find the sample mean bedtime for nap and no_nap."
   ]
  },
  {
   "cell_type": "code",
   "execution_count": 7,
   "metadata": {
    "colab": {},
    "colab_type": "code",
    "id": "ukpOHZk9MyWZ"
   },
   "outputs": [],
   "source": [
    "nap_mean_bedtime = bedtime_nap.mean()"
   ]
  },
  {
   "cell_type": "code",
   "execution_count": 8,
   "metadata": {
    "colab": {},
    "colab_type": "code",
    "id": "S16eWcwrMyWc"
   },
   "outputs": [],
   "source": [
    "no_nap_mean_bedtime = bedtime_no_nap.mean()"
   ]
  },
  {
   "cell_type": "markdown",
   "metadata": {},
   "source": [
    "Now find the sample standard deviation for $X_{nap}$ and $X_{no\\ nap}$."
   ]
  },
  {
   "cell_type": "code",
   "execution_count": 9,
   "metadata": {},
   "outputs": [],
   "source": [
    "# The np.std function can be used to find the standard deviation. The\n",
    "# ddof parameter must be set to 1 to get the sample standard deviation.\n",
    "# If it is not, you will be using the population standard deviation which\n",
    "# is not the correct estimator\n",
    "nap_s_bedtime = np.std(bedtime_nap, ddof=1) "
   ]
  },
  {
   "cell_type": "code",
   "execution_count": 10,
   "metadata": {},
   "outputs": [],
   "source": [
    "no_nap_s_bedtime = np.std(bedtime_no_nap, ddof=1) "
   ]
  },
  {
   "cell_type": "markdown",
   "metadata": {
    "colab_type": "text",
    "id": "Gsyq63z9MyWf"
   },
   "source": [
    "Now find the standard error for $\\bar{X}_{nap}$ and $\\bar{X}_{no\\ nap}$."
   ]
  },
  {
   "cell_type": "code",
   "execution_count": 11,
   "metadata": {
    "colab": {},
    "colab_type": "code",
    "id": "CRkxL29UMyWg"
   },
   "outputs": [],
   "source": [
    "nap_se_mean_bedtime = nap_s_bedtime/np.sqrt(nap)"
   ]
  },
  {
   "cell_type": "code",
   "execution_count": 12,
   "metadata": {
    "colab": {},
    "colab_type": "code",
    "id": "mMaluR9uMyWj"
   },
   "outputs": [],
   "source": [
    "no_nap_se_mean_bedtime = no_nap_s_bedtime/np.sqrt(no_nap)"
   ]
  },
  {
   "cell_type": "markdown",
   "metadata": {
    "colab_type": "text",
    "id": "RaMARY4aMyWl"
   },
   "source": [
    "**Question**: Given our sample sizes of $n_1$ and $n_2$ for napping and non napping toddlers respectively, how many degrees of freedom ($df$) are there for the associated $t$ distributions?"
   ]
  },
  {
   "cell_type": "markdown",
   "metadata": {
    "colab_type": "text",
    "id": "7MLtPm0LMyWm"
   },
   "source": [
    "To build a 95% confidence interval, what is the value of t\\*?  You can find this value using the percent point function (PPF): \n",
    "```\n",
    "from scipy.stats import t\n",
    "\n",
    "t.ppf(probability, df)\n",
    "```\n",
    "This will return the quantile value such that to the left of this value, the tail probabiliy is equal to the input probabiliy (for the specified degrees of freedom). "
   ]
  },
  {
   "cell_type": "markdown",
   "metadata": {
    "colab_type": "text",
    "id": "oTOR6oRFMyWm"
   },
   "source": [
    "Example: to find the $t^*$ for a 90% confidence interval, we want $t^*$ such that 90% of the density of the $t$ distribution lies between $-t^*$ and $t^*$.\n",
    "\n",
    "Or in other words if $X \\sim t(df)$:\n",
    "\n",
    "P($-t^*$ < X < $t^*$) = .90\n",
    "\n",
    "Which, because the $t$ distribution is symmetric, is equivalent to finding $t^*$ such that:  \n",
    "\n",
    "P(X < $t^*$) = .95\n",
    "\n",
    "(0.95 = 1 - (1 - confidence) / 2 = 1 - 0.1 / 2 = 1 - 0.05)\n",
    "\n",
    "So the $t^*$ for a 90% confidence interval, and lets say df=10, will be:\n",
    "\n",
    "t_star = t.ppf(.95, df=10)\n"
   ]
  },
  {
   "cell_type": "code",
   "execution_count": 13,
   "metadata": {
    "colab": {},
    "colab_type": "code",
    "id": "swHZqQ9LMyWo"
   },
   "outputs": [],
   "source": [
    "# Find the t_stars for the 95% confidence intervals\n",
    "nap_t_star = t.ppf(1 - .05 / 2, bedtime_nap.shape[0]-1)"
   ]
  },
  {
   "cell_type": "code",
   "execution_count": 14,
   "metadata": {
    "colab": {},
    "colab_type": "code",
    "id": "ZwKnTJbPMyWq"
   },
   "outputs": [],
   "source": [
    "no_nap_t_star = t.ppf(1 - .05 / 2, bedtime_no_nap.shape[0]-1)"
   ]
  },
  {
   "cell_type": "markdown",
   "metadata": {
    "colab_type": "text",
    "id": "AnhhDXMbMyWs"
   },
   "source": [
    "**Quesion**: What is $t^*$ for nap and no nap?"
   ]
  },
  {
   "cell_type": "code",
   "execution_count": 15,
   "metadata": {},
   "outputs": [
    {
     "name": "stdout",
     "output_type": "stream",
     "text": [
      "t-multipler for nap sample: 2.1447866879169273\n",
      "t-multipler for no nap sample: 2.7764451051977987\n"
     ]
    }
   ],
   "source": [
    "print(\"t-multipler for nap sample: \" + str(nap_t_star))\n",
    "print(\"t-multipler for no nap sample: \" + str(no_nap_t_star))"
   ]
  },
  {
   "cell_type": "markdown",
   "metadata": {
    "colab_type": "text",
    "id": "WeTPNMzRMyWt"
   },
   "source": [
    "Now to create our confidence intervals. For the average bedtime for nap and no nap, find the upper and lower bounds for the respective 95% confidence intervals."
   ]
  },
  {
   "cell_type": "markdown",
   "metadata": {
    "colab_type": "text",
    "id": "3skLkWyyMyWy"
   },
   "source": [
    "**Question**: What are the 95% confidence intervals for the average bedtime for toddlers who nap and for toddlers who don't nap? \n",
    "\n",
    "CI = $\\bar{X} \\pm \\ t^* \\cdot s.e.(\\bar{X})$"
   ]
  },
  {
   "cell_type": "code",
   "execution_count": 16,
   "metadata": {
    "colab": {},
    "colab_type": "code",
    "id": "k3iNowvfMyWv",
    "scrolled": true
   },
   "outputs": [
    {
     "name": "stdout",
     "output_type": "stream",
     "text": [
      "95% confidence interval for nap sample: (19.976680775477412, 20.631319224522585)\n",
      "95% confidence interval for no nap sample: (18.95974084563192, 20.220259154368087)\n"
     ]
    }
   ],
   "source": [
    "nap_confidence_interval = tuple((nap_mean_bedtime - (nap_t_star * nap_se_mean_bedtime),nap_mean_bedtime + (nap_t_star * nap_se_mean_bedtime)))\n",
    "no_nap_confidence_interval = tuple((no_nap_mean_bedtime - (no_nap_t_star * no_nap_se_mean_bedtime),no_nap_mean_bedtime + (no_nap_t_star * no_nap_se_mean_bedtime)))\n",
    "\n",
    "print(\"95% confidence interval for nap sample: \" + str(nap_confidence_interval))\n",
    "print(\"95% confidence interval for no nap sample: \" + str(no_nap_confidence_interval))"
   ]
  }
 ],
 "metadata": {
  "colab": {
   "collapsed_sections": [],
   "name": "Confidence intervals assessment.ipynb",
   "provenance": [],
   "version": "0.3.2"
  },
  "kernelspec": {
   "display_name": "Python 3",
   "language": "python",
   "name": "python3"
  },
  "language_info": {
   "codemirror_mode": {
    "name": "ipython",
    "version": 3
   },
   "file_extension": ".py",
   "mimetype": "text/x-python",
   "name": "python",
   "nbconvert_exporter": "python",
   "pygments_lexer": "ipython3",
   "version": "3.6.3"
  }
 },
 "nbformat": 4,
 "nbformat_minor": 1
}
