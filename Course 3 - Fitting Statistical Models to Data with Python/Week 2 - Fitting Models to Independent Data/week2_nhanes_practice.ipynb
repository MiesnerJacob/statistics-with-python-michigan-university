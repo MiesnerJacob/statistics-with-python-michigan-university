{
 "cells": [
  {
   "cell_type": "markdown",
   "metadata": {},
   "source": [
    "# Practice notebook for regression analysis with NHANES\n",
    "\n",
    "This notebook will give you the opportunity to perform some\n",
    "regression analyses with the NHANES data that are similar to\n",
    "the analyses done in the week 2 case study notebook.\n",
    "\n",
    "You can enter your code into the cells that say \"enter your code here\",\n",
    "and you can type responses to the questions into the cells that say \"Type Markdown and Latex\".\n",
    "\n",
    "Note that most of the code that you will need to write below is very similar\n",
    "to code that appears in the case study notebook.  You will need\n",
    "to edit code from that notebook in small ways to adapt it to the\n",
    "prompts below.\n",
    "\n",
    "To get started, we will use the same module imports and\n",
    "read the data in the same way as we did in the case study:"
   ]
  },
  {
   "cell_type": "code",
   "execution_count": 44,
   "metadata": {},
   "outputs": [],
   "source": [
    "%matplotlib inline\n",
    "from statsmodels.sandbox.predict_functional import predict_functional\n",
    "import matplotlib.pyplot as plt\n",
    "import seaborn as sns\n",
    "import pandas as pd\n",
    "import statsmodels.api as sm\n",
    "import numpy as np\n",
    "\n",
    "url = \"https://raw.githubusercontent.com/kshedden/statswpy/master/NHANES/merged/nhanes_2015_2016.csv\"\n",
    "da = pd.read_csv(url)\n",
    "\n",
    "# Drop unused columns, drop rows with any missing values.\n",
    "vars = [\"BPXSY1\", \"RIDAGEYR\", \"RIAGENDR\", \"RIDRETH1\", \"DMDEDUC2\", \"BMXBMI\", \"SMQ020\", \"ALQ110\"]\n",
    "da = da[vars].dropna()"
   ]
  },
  {
   "cell_type": "markdown",
   "metadata": {},
   "source": [
    "## Question 1:\n",
    "\n",
    "Use linear regression to relate the expected body mass index (BMI) to a person's age."
   ]
  },
  {
   "cell_type": "code",
   "execution_count": 45,
   "metadata": {},
   "outputs": [
    {
     "data": {
      "text/html": [
       "<table class=\"simpletable\">\n",
       "<caption>OLS Regression Results</caption>\n",
       "<tr>\n",
       "  <th>Dep. Variable:</th>         <td>BMXBMI</td>      <th>  R-squared:         </th> <td>   0.002</td> \n",
       "</tr>\n",
       "<tr>\n",
       "  <th>Model:</th>                   <td>OLS</td>       <th>  Adj. R-squared:    </th> <td>   0.001</td> \n",
       "</tr>\n",
       "<tr>\n",
       "  <th>Method:</th>             <td>Least Squares</td>  <th>  F-statistic:       </th> <td>   2.280</td> \n",
       "</tr>\n",
       "<tr>\n",
       "  <th>Date:</th>             <td>Mon, 05 Jul 2021</td> <th>  Prob (F-statistic):</th>  <td> 0.131</td>  \n",
       "</tr>\n",
       "<tr>\n",
       "  <th>Time:</th>                 <td>16:06:27</td>     <th>  Log-Likelihood:    </th> <td> -5033.1</td> \n",
       "</tr>\n",
       "<tr>\n",
       "  <th>No. Observations:</th>      <td>  1473</td>      <th>  AIC:               </th> <td>1.007e+04</td>\n",
       "</tr>\n",
       "<tr>\n",
       "  <th>Df Residuals:</th>          <td>  1471</td>      <th>  BIC:               </th> <td>1.008e+04</td>\n",
       "</tr>\n",
       "<tr>\n",
       "  <th>Df Model:</th>              <td>     1</td>      <th>                     </th>     <td> </td>    \n",
       "</tr>\n",
       "<tr>\n",
       "  <th>Covariance Type:</th>      <td>nonrobust</td>    <th>                     </th>     <td> </td>    \n",
       "</tr>\n",
       "</table>\n",
       "<table class=\"simpletable\">\n",
       "<tr>\n",
       "      <td></td>         <th>coef</th>     <th>std err</th>      <th>t</th>      <th>P>|t|</th>  <th>[0.025</th>    <th>0.975]</th>  \n",
       "</tr>\n",
       "<tr>\n",
       "  <th>Intercept</th> <td>   29.1093</td> <td>    0.596</td> <td>   48.871</td> <td> 0.000</td> <td>   27.941</td> <td>   30.278</td>\n",
       "</tr>\n",
       "<tr>\n",
       "  <th>RIDAGEYR</th>  <td>    0.0161</td> <td>    0.011</td> <td>    1.510</td> <td> 0.131</td> <td>   -0.005</td> <td>    0.037</td>\n",
       "</tr>\n",
       "</table>\n",
       "<table class=\"simpletable\">\n",
       "<tr>\n",
       "  <th>Omnibus:</th>       <td>263.915</td> <th>  Durbin-Watson:     </th> <td>   2.016</td> \n",
       "</tr>\n",
       "<tr>\n",
       "  <th>Prob(Omnibus):</th> <td> 0.000</td>  <th>  Jarque-Bera (JB):  </th> <td> 495.303</td> \n",
       "</tr>\n",
       "<tr>\n",
       "  <th>Skew:</th>          <td> 1.083</td>  <th>  Prob(JB):          </th> <td>2.79e-108</td>\n",
       "</tr>\n",
       "<tr>\n",
       "  <th>Kurtosis:</th>      <td> 4.838</td>  <th>  Cond. No.          </th> <td>    173.</td> \n",
       "</tr>\n",
       "</table><br/><br/>Warnings:<br/>[1] Standard Errors assume that the covariance matrix of the errors is correctly specified."
      ],
      "text/plain": [
       "<class 'statsmodels.iolib.summary.Summary'>\n",
       "\"\"\"\n",
       "                            OLS Regression Results                            \n",
       "==============================================================================\n",
       "Dep. Variable:                 BMXBMI   R-squared:                       0.002\n",
       "Model:                            OLS   Adj. R-squared:                  0.001\n",
       "Method:                 Least Squares   F-statistic:                     2.280\n",
       "Date:                Mon, 05 Jul 2021   Prob (F-statistic):              0.131\n",
       "Time:                        16:06:27   Log-Likelihood:                -5033.1\n",
       "No. Observations:                1473   AIC:                         1.007e+04\n",
       "Df Residuals:                    1471   BIC:                         1.008e+04\n",
       "Df Model:                           1                                         \n",
       "Covariance Type:            nonrobust                                         \n",
       "==============================================================================\n",
       "                 coef    std err          t      P>|t|      [0.025      0.975]\n",
       "------------------------------------------------------------------------------\n",
       "Intercept     29.1093      0.596     48.871      0.000      27.941      30.278\n",
       "RIDAGEYR       0.0161      0.011      1.510      0.131      -0.005       0.037\n",
       "==============================================================================\n",
       "Omnibus:                      263.915   Durbin-Watson:                   2.016\n",
       "Prob(Omnibus):                  0.000   Jarque-Bera (JB):              495.303\n",
       "Skew:                           1.083   Prob(JB):                    2.79e-108\n",
       "Kurtosis:                       4.838   Cond. No.                         173.\n",
       "==============================================================================\n",
       "\n",
       "Warnings:\n",
       "[1] Standard Errors assume that the covariance matrix of the errors is correctly specified.\n",
       "\"\"\""
      ]
     },
     "execution_count": 45,
     "metadata": {},
     "output_type": "execute_result"
    }
   ],
   "source": [
    "model = sm.OLS.from_formula(\"BMXBMI ~ RIDAGEYR\", data=da)\n",
    "result = model.fit()\n",
    "result.summary()"
   ]
  },
  {
   "cell_type": "markdown",
   "metadata": {},
   "source": [
    "__Q1a.__ According to your fitted model, do older people tend to have higher or lower BMI than younger people?"
   ]
  },
  {
   "cell_type": "markdown",
   "metadata": {},
   "source": [
    "Yes, because we have a positive regression coef for the age variable."
   ]
  },
  {
   "cell_type": "markdown",
   "metadata": {},
   "source": [
    "__Q1b.__ Based your analysis, are you confident that there is a relationship between BMI and age in the population that NHANES represents?"
   ]
  },
  {
   "cell_type": "markdown",
   "metadata": {},
   "source": [
    "If I were to use an alpha=0.05 I would say no."
   ]
  },
  {
   "cell_type": "markdown",
   "metadata": {},
   "source": [
    "__Q1c.__ By how much does the average BMI of a 40 year old differ from the average BMI of a 20 year old?"
   ]
  },
  {
   "cell_type": "code",
   "execution_count": 46,
   "metadata": {},
   "outputs": [
    {
     "name": "stdout",
     "output_type": "stream",
     "text": [
      "Difference: 0.182\n"
     ]
    }
   ],
   "source": [
    "regression_coef = .0091\n",
    "\n",
    "forty_year_old_bmi = 40 * regression_coef\n",
    "twenty_year_old_bmi = 20 * regression_coef\n",
    "print(\"Difference: \" + str(forty_year_old_bmi-twenty_year_old_bmi))"
   ]
  },
  {
   "cell_type": "markdown",
   "metadata": {},
   "source": [
    "__Q1d.__ What fraction of the variation of BMI in this population is explained by age?"
   ]
  },
  {
   "cell_type": "markdown",
   "metadata": {},
   "source": [
    "Roughly 1% according to our R2 value."
   ]
  },
  {
   "cell_type": "markdown",
   "metadata": {},
   "source": [
    "## Question 2: \n",
    "\n",
    "Add gender and ethnicity as additional control variables to your linear model relating BMI to age.  You will need to recode the ethnic groups based\n",
    "on the values in the codebook entry for [RIDRETH1](https://wwwn.cdc.gov/Nchs/Nhanes/2015-2016/DEMO_I.htm#RIDRETH1)."
   ]
  },
  {
   "cell_type": "code",
   "execution_count": 47,
   "metadata": {},
   "outputs": [],
   "source": [
    "da[\"RIDRETH1\"] = da[\"RIDRETH1\"].replace({1: \"Mexican American\", 2: \"Other Hispanic\", 3: \"Non-Hispanic White\", 4: \"Non-Hispanic Black\", 5: \"Other\"})\n",
    "da[\"RIAGENDR\"] = da[\"RIAGENDR\"].replace({1: \"Male\", 2: \"Female\"})"
   ]
  },
  {
   "cell_type": "code",
   "execution_count": 48,
   "metadata": {},
   "outputs": [
    {
     "data": {
      "text/html": [
       "<table class=\"simpletable\">\n",
       "<caption>OLS Regression Results</caption>\n",
       "<tr>\n",
       "  <th>Dep. Variable:</th>         <td>BMXBMI</td>      <th>  R-squared:         </th> <td>   0.089</td>\n",
       "</tr>\n",
       "<tr>\n",
       "  <th>Model:</th>                   <td>OLS</td>       <th>  Adj. R-squared:    </th> <td>   0.085</td>\n",
       "</tr>\n",
       "<tr>\n",
       "  <th>Method:</th>             <td>Least Squares</td>  <th>  F-statistic:       </th> <td>   23.80</td>\n",
       "</tr>\n",
       "<tr>\n",
       "  <th>Date:</th>             <td>Mon, 05 Jul 2021</td> <th>  Prob (F-statistic):</th> <td>5.55e-27</td>\n",
       "</tr>\n",
       "<tr>\n",
       "  <th>Time:</th>                 <td>16:06:30</td>     <th>  Log-Likelihood:    </th> <td> -4965.8</td>\n",
       "</tr>\n",
       "<tr>\n",
       "  <th>No. Observations:</th>      <td>  1473</td>      <th>  AIC:               </th> <td>   9946.</td>\n",
       "</tr>\n",
       "<tr>\n",
       "  <th>Df Residuals:</th>          <td>  1466</td>      <th>  BIC:               </th> <td>   9983.</td>\n",
       "</tr>\n",
       "<tr>\n",
       "  <th>Df Model:</th>              <td>     6</td>      <th>                     </th>     <td> </td>   \n",
       "</tr>\n",
       "<tr>\n",
       "  <th>Covariance Type:</th>      <td>nonrobust</td>    <th>                     </th>     <td> </td>   \n",
       "</tr>\n",
       "</table>\n",
       "<table class=\"simpletable\">\n",
       "<tr>\n",
       "                 <td></td>                   <th>coef</th>     <th>std err</th>      <th>t</th>      <th>P>|t|</th>  <th>[0.025</th>    <th>0.975]</th>  \n",
       "</tr>\n",
       "<tr>\n",
       "  <th>Intercept</th>                      <td>   31.6846</td> <td>    0.682</td> <td>   46.453</td> <td> 0.000</td> <td>   30.347</td> <td>   33.023</td>\n",
       "</tr>\n",
       "<tr>\n",
       "  <th>RIAGENDR[T.Male]</th>               <td>   -1.2017</td> <td>    0.407</td> <td>   -2.949</td> <td> 0.003</td> <td>   -2.001</td> <td>   -0.402</td>\n",
       "</tr>\n",
       "<tr>\n",
       "  <th>RIDRETH1[T.Non-Hispanic Black]</th> <td>   -0.7502</td> <td>    0.569</td> <td>   -1.319</td> <td> 0.187</td> <td>   -1.866</td> <td>    0.366</td>\n",
       "</tr>\n",
       "<tr>\n",
       "  <th>RIDRETH1[T.Non-Hispanic White]</th> <td>   -0.9866</td> <td>    0.562</td> <td>   -1.755</td> <td> 0.080</td> <td>   -2.090</td> <td>    0.116</td>\n",
       "</tr>\n",
       "<tr>\n",
       "  <th>RIDRETH1[T.Other]</th>              <td>   -5.8381</td> <td>    0.588</td> <td>   -9.920</td> <td> 0.000</td> <td>   -6.992</td> <td>   -4.684</td>\n",
       "</tr>\n",
       "<tr>\n",
       "  <th>RIDRETH1[T.Other Hispanic]</th>     <td>   -1.0388</td> <td>    0.628</td> <td>   -1.654</td> <td> 0.098</td> <td>   -2.271</td> <td>    0.193</td>\n",
       "</tr>\n",
       "<tr>\n",
       "  <th>RIDAGEYR</th>                       <td>    0.0058</td> <td>    0.010</td> <td>    0.560</td> <td> 0.576</td> <td>   -0.015</td> <td>    0.026</td>\n",
       "</tr>\n",
       "</table>\n",
       "<table class=\"simpletable\">\n",
       "<tr>\n",
       "  <th>Omnibus:</th>       <td>256.385</td> <th>  Durbin-Watson:     </th> <td>   2.032</td> \n",
       "</tr>\n",
       "<tr>\n",
       "  <th>Prob(Omnibus):</th> <td> 0.000</td>  <th>  Jarque-Bera (JB):  </th> <td> 491.828</td> \n",
       "</tr>\n",
       "<tr>\n",
       "  <th>Skew:</th>          <td> 1.044</td>  <th>  Prob(JB):          </th> <td>1.59e-107</td>\n",
       "</tr>\n",
       "<tr>\n",
       "  <th>Kurtosis:</th>      <td> 4.912</td>  <th>  Cond. No.          </th> <td>    306.</td> \n",
       "</tr>\n",
       "</table><br/><br/>Warnings:<br/>[1] Standard Errors assume that the covariance matrix of the errors is correctly specified."
      ],
      "text/plain": [
       "<class 'statsmodels.iolib.summary.Summary'>\n",
       "\"\"\"\n",
       "                            OLS Regression Results                            \n",
       "==============================================================================\n",
       "Dep. Variable:                 BMXBMI   R-squared:                       0.089\n",
       "Model:                            OLS   Adj. R-squared:                  0.085\n",
       "Method:                 Least Squares   F-statistic:                     23.80\n",
       "Date:                Mon, 05 Jul 2021   Prob (F-statistic):           5.55e-27\n",
       "Time:                        16:06:30   Log-Likelihood:                -4965.8\n",
       "No. Observations:                1473   AIC:                             9946.\n",
       "Df Residuals:                    1466   BIC:                             9983.\n",
       "Df Model:                           6                                         \n",
       "Covariance Type:            nonrobust                                         \n",
       "==================================================================================================\n",
       "                                     coef    std err          t      P>|t|      [0.025      0.975]\n",
       "--------------------------------------------------------------------------------------------------\n",
       "Intercept                         31.6846      0.682     46.453      0.000      30.347      33.023\n",
       "RIAGENDR[T.Male]                  -1.2017      0.407     -2.949      0.003      -2.001      -0.402\n",
       "RIDRETH1[T.Non-Hispanic Black]    -0.7502      0.569     -1.319      0.187      -1.866       0.366\n",
       "RIDRETH1[T.Non-Hispanic White]    -0.9866      0.562     -1.755      0.080      -2.090       0.116\n",
       "RIDRETH1[T.Other]                 -5.8381      0.588     -9.920      0.000      -6.992      -4.684\n",
       "RIDRETH1[T.Other Hispanic]        -1.0388      0.628     -1.654      0.098      -2.271       0.193\n",
       "RIDAGEYR                           0.0058      0.010      0.560      0.576      -0.015       0.026\n",
       "==============================================================================\n",
       "Omnibus:                      256.385   Durbin-Watson:                   2.032\n",
       "Prob(Omnibus):                  0.000   Jarque-Bera (JB):              491.828\n",
       "Skew:                           1.044   Prob(JB):                    1.59e-107\n",
       "Kurtosis:                       4.912   Cond. No.                         306.\n",
       "==============================================================================\n",
       "\n",
       "Warnings:\n",
       "[1] Standard Errors assume that the covariance matrix of the errors is correctly specified.\n",
       "\"\"\""
      ]
     },
     "execution_count": 48,
     "metadata": {},
     "output_type": "execute_result"
    }
   ],
   "source": [
    "model = sm.OLS.from_formula(\"BMXBMI ~ RIDAGEYR + RIAGENDR + RIDRETH1\", data=da)\n",
    "result = model.fit()\n",
    "result.summary()"
   ]
  },
  {
   "cell_type": "markdown",
   "metadata": {},
   "source": [
    "__Q2a.__ How did the mean relationship between BMI and age change when you added additional covariates to the model?"
   ]
  },
  {
   "cell_type": "markdown",
   "metadata": {},
   "source": [
    "It decreased slightly from .0091 to .0065"
   ]
  },
  {
   "cell_type": "markdown",
   "metadata": {},
   "source": [
    "__Q2b.__ How did the standard error for the regression parameter for age change when you added additional covariates to the model?"
   ]
  },
  {
   "cell_type": "markdown",
   "metadata": {},
   "source": [
    "Remaned relatively unchanged moving from .006 to .005"
   ]
  },
  {
   "cell_type": "markdown",
   "metadata": {},
   "source": [
    "__Q2c.__ How much additional variation in BMI is explained by age, gender, and ethnicity that is not explained by age alone?"
   ]
  },
  {
   "cell_type": "code",
   "execution_count": 49,
   "metadata": {},
   "outputs": [
    {
     "name": "stdout",
     "output_type": "stream",
     "text": [
      "Additional explained variation: 0.054\n"
     ]
    }
   ],
   "source": [
    "age_model_explained_varation = .001\n",
    "new_model_explained_varation = .055\n",
    "print(\"Additional explained variation: \" + str(new_model_explained_varation - age_model_explained_varation))"
   ]
  },
  {
   "cell_type": "markdown",
   "metadata": {},
   "source": [
    "__Q2d.__ What reference level did the software select for the ethnicity variable?"
   ]
  },
  {
   "cell_type": "markdown",
   "metadata": {},
   "source": [
    "Mexican American"
   ]
  },
  {
   "cell_type": "markdown",
   "metadata": {},
   "source": [
    "__Q2e.__ What is the expected difference between the BMI of a 40 year-old non-Hispanic black man and a 30 year-old non-Hispanic black man?"
   ]
  },
  {
   "cell_type": "markdown",
   "metadata": {},
   "source": [
    "Since the only difference between the two subjects is age the answer is as follows:"
   ]
  },
  {
   "cell_type": "code",
   "execution_count": 50,
   "metadata": {},
   "outputs": [
    {
     "name": "stdout",
     "output_type": "stream",
     "text": [
      "expected difference BMI: 0.065\n"
     ]
    }
   ],
   "source": [
    "age_coef = 0.0065\n",
    "print(\"expected difference BMI: \" + str(10 * age_coef))"
   ]
  },
  {
   "cell_type": "markdown",
   "metadata": {},
   "source": [
    "__Q2f.__ What is the expected difference between the BMI of a 50 year-old Mexican American woman and a 50 year-old non-Hispanic black man?"
   ]
  },
  {
   "cell_type": "markdown",
   "metadata": {},
   "source": [
    "The difference here is both gender and ethnicity, we will caclulate the difference as follows:"
   ]
  },
  {
   "cell_type": "code",
   "execution_count": 51,
   "metadata": {},
   "outputs": [
    {
     "name": "stdout",
     "output_type": "stream",
     "text": [
      "expected difference BMI: 1.4725\n"
     ]
    }
   ],
   "source": [
    "mexican_american_coef = 0\n",
    "non_hispanic_black_coef = -0.4499\n",
    "male_coef = -1.0226\n",
    "female_coef = 0\n",
    "\n",
    "print(\"expected difference BMI: \" + str((mexican_american_coef + female_coef) - (non_hispanic_black_coef + male_coef)))"
   ]
  },
  {
   "cell_type": "markdown",
   "metadata": {},
   "source": [
    "## Question 3: \n",
    "\n",
    "Randomly sample 25% of the NHANES data, then fit the same model you used in question 2 to this data set."
   ]
  },
  {
   "cell_type": "code",
   "execution_count": 52,
   "metadata": {},
   "outputs": [],
   "source": [
    "df = da.sample(frac=.25).copy()"
   ]
  },
  {
   "cell_type": "code",
   "execution_count": 53,
   "metadata": {},
   "outputs": [
    {
     "data": {
      "text/html": [
       "<table class=\"simpletable\">\n",
       "<caption>OLS Regression Results</caption>\n",
       "<tr>\n",
       "  <th>Dep. Variable:</th>         <td>BMXBMI</td>      <th>  R-squared:         </th> <td>   0.131</td>\n",
       "</tr>\n",
       "<tr>\n",
       "  <th>Model:</th>                   <td>OLS</td>       <th>  Adj. R-squared:    </th> <td>   0.116</td>\n",
       "</tr>\n",
       "<tr>\n",
       "  <th>Method:</th>             <td>Least Squares</td>  <th>  F-statistic:       </th> <td>   9.034</td>\n",
       "</tr>\n",
       "<tr>\n",
       "  <th>Date:</th>             <td>Mon, 05 Jul 2021</td> <th>  Prob (F-statistic):</th> <td>3.28e-09</td>\n",
       "</tr>\n",
       "<tr>\n",
       "  <th>Time:</th>                 <td>16:06:33</td>     <th>  Log-Likelihood:    </th> <td> -1205.4</td>\n",
       "</tr>\n",
       "<tr>\n",
       "  <th>No. Observations:</th>      <td>   368</td>      <th>  AIC:               </th> <td>   2425.</td>\n",
       "</tr>\n",
       "<tr>\n",
       "  <th>Df Residuals:</th>          <td>   361</td>      <th>  BIC:               </th> <td>   2452.</td>\n",
       "</tr>\n",
       "<tr>\n",
       "  <th>Df Model:</th>              <td>     6</td>      <th>                     </th>     <td> </td>   \n",
       "</tr>\n",
       "<tr>\n",
       "  <th>Covariance Type:</th>      <td>nonrobust</td>    <th>                     </th>     <td> </td>   \n",
       "</tr>\n",
       "</table>\n",
       "<table class=\"simpletable\">\n",
       "<tr>\n",
       "                 <td></td>                   <th>coef</th>     <th>std err</th>      <th>t</th>      <th>P>|t|</th>  <th>[0.025</th>    <th>0.975]</th>  \n",
       "</tr>\n",
       "<tr>\n",
       "  <th>Intercept</th>                      <td>   30.1517</td> <td>    1.257</td> <td>   23.993</td> <td> 0.000</td> <td>   27.680</td> <td>   32.623</td>\n",
       "</tr>\n",
       "<tr>\n",
       "  <th>RIAGENDR[T.Male]</th>               <td>   -0.3767</td> <td>    0.744</td> <td>   -0.506</td> <td> 0.613</td> <td>   -1.839</td> <td>    1.086</td>\n",
       "</tr>\n",
       "<tr>\n",
       "  <th>RIDRETH1[T.Non-Hispanic Black]</th> <td>   -2.0948</td> <td>    1.055</td> <td>   -1.986</td> <td> 0.048</td> <td>   -4.169</td> <td>   -0.021</td>\n",
       "</tr>\n",
       "<tr>\n",
       "  <th>RIDRETH1[T.Non-Hispanic White]</th> <td>   -0.3934</td> <td>    1.020</td> <td>   -0.386</td> <td> 0.700</td> <td>   -2.399</td> <td>    1.612</td>\n",
       "</tr>\n",
       "<tr>\n",
       "  <th>RIDRETH1[T.Other]</th>              <td>   -6.2576</td> <td>    1.032</td> <td>   -6.062</td> <td> 0.000</td> <td>   -8.288</td> <td>   -4.228</td>\n",
       "</tr>\n",
       "<tr>\n",
       "  <th>RIDRETH1[T.Other Hispanic]</th>     <td>   -2.9188</td> <td>    1.182</td> <td>   -2.470</td> <td> 0.014</td> <td>   -5.243</td> <td>   -0.595</td>\n",
       "</tr>\n",
       "<tr>\n",
       "  <th>RIDAGEYR</th>                       <td>    0.0264</td> <td>    0.019</td> <td>    1.370</td> <td> 0.171</td> <td>   -0.011</td> <td>    0.064</td>\n",
       "</tr>\n",
       "</table>\n",
       "<table class=\"simpletable\">\n",
       "<tr>\n",
       "  <th>Omnibus:</th>       <td>60.723</td> <th>  Durbin-Watson:     </th> <td>   1.807</td>\n",
       "</tr>\n",
       "<tr>\n",
       "  <th>Prob(Omnibus):</th> <td> 0.000</td> <th>  Jarque-Bera (JB):  </th> <td> 109.606</td>\n",
       "</tr>\n",
       "<tr>\n",
       "  <th>Skew:</th>          <td> 0.931</td> <th>  Prob(JB):          </th> <td>1.58e-24</td>\n",
       "</tr>\n",
       "<tr>\n",
       "  <th>Kurtosis:</th>      <td> 4.918</td> <th>  Cond. No.          </th> <td>    304.</td>\n",
       "</tr>\n",
       "</table><br/><br/>Warnings:<br/>[1] Standard Errors assume that the covariance matrix of the errors is correctly specified."
      ],
      "text/plain": [
       "<class 'statsmodels.iolib.summary.Summary'>\n",
       "\"\"\"\n",
       "                            OLS Regression Results                            \n",
       "==============================================================================\n",
       "Dep. Variable:                 BMXBMI   R-squared:                       0.131\n",
       "Model:                            OLS   Adj. R-squared:                  0.116\n",
       "Method:                 Least Squares   F-statistic:                     9.034\n",
       "Date:                Mon, 05 Jul 2021   Prob (F-statistic):           3.28e-09\n",
       "Time:                        16:06:33   Log-Likelihood:                -1205.4\n",
       "No. Observations:                 368   AIC:                             2425.\n",
       "Df Residuals:                     361   BIC:                             2452.\n",
       "Df Model:                           6                                         \n",
       "Covariance Type:            nonrobust                                         \n",
       "==================================================================================================\n",
       "                                     coef    std err          t      P>|t|      [0.025      0.975]\n",
       "--------------------------------------------------------------------------------------------------\n",
       "Intercept                         30.1517      1.257     23.993      0.000      27.680      32.623\n",
       "RIAGENDR[T.Male]                  -0.3767      0.744     -0.506      0.613      -1.839       1.086\n",
       "RIDRETH1[T.Non-Hispanic Black]    -2.0948      1.055     -1.986      0.048      -4.169      -0.021\n",
       "RIDRETH1[T.Non-Hispanic White]    -0.3934      1.020     -0.386      0.700      -2.399       1.612\n",
       "RIDRETH1[T.Other]                 -6.2576      1.032     -6.062      0.000      -8.288      -4.228\n",
       "RIDRETH1[T.Other Hispanic]        -2.9188      1.182     -2.470      0.014      -5.243      -0.595\n",
       "RIDAGEYR                           0.0264      0.019      1.370      0.171      -0.011       0.064\n",
       "==============================================================================\n",
       "Omnibus:                       60.723   Durbin-Watson:                   1.807\n",
       "Prob(Omnibus):                  0.000   Jarque-Bera (JB):              109.606\n",
       "Skew:                           0.931   Prob(JB):                     1.58e-24\n",
       "Kurtosis:                       4.918   Cond. No.                         304.\n",
       "==============================================================================\n",
       "\n",
       "Warnings:\n",
       "[1] Standard Errors assume that the covariance matrix of the errors is correctly specified.\n",
       "\"\"\""
      ]
     },
     "execution_count": 53,
     "metadata": {},
     "output_type": "execute_result"
    }
   ],
   "source": [
    "model = sm.OLS.from_formula(\"BMXBMI ~ RIDAGEYR + RIAGENDR + RIDRETH1\", data=df)\n",
    "sample_result = model.fit()\n",
    "sample_result.summary()"
   ]
  },
  {
   "cell_type": "markdown",
   "metadata": {},
   "source": [
    "__Q3a.__ How do the estimated regression coefficients and their standard errors compare between these two models?  Do you see any systematic relationship between the two sets of results?"
   ]
  },
  {
   "cell_type": "markdown",
   "metadata": {},
   "source": [
    "We can see that our regression coefficients are roughly the same, while our standard errors have become much larger, because the model is less certain of itself when using less data."
   ]
  },
  {
   "cell_type": "markdown",
   "metadata": {},
   "source": [
    "## Question 4:\n",
    "\n",
    "Generate a scatterplot of the residuals against the fitted values for the model you fit in question 2."
   ]
  },
  {
   "cell_type": "code",
   "execution_count": 54,
   "metadata": {},
   "outputs": [
    {
     "data": {
      "image/png": "[encoded data removed]",
      "text/plain": [
       "<Figure size 432x288 with 1 Axes>"
      ]
     },
     "metadata": {},
     "output_type": "display_data"
    }
   ],
   "source": [
    "pp = sns.scatterplot(result.fittedvalues, result.resid)\n",
    "pp.set_xlabel(\"Fitted values\")\n",
    "_ = pp.set_ylabel(\"Residuals\")"
   ]
  },
  {
   "cell_type": "markdown",
   "metadata": {},
   "source": [
    "__Q4a.__ What mean/variance relationship do you see?"
   ]
  },
  {
   "cell_type": "code",
   "execution_count": 55,
   "metadata": {},
   "outputs": [
    {
     "name": "stdout",
     "output_type": "stream",
     "text": [
      "49.660340498823686\n",
      "1.0033461577603587e-14\n"
     ]
    }
   ],
   "source": [
    "print(result.resid.var())\n",
    "print(result.resid.mean())"
   ]
  },
  {
   "cell_type": "markdown",
   "metadata": {},
   "source": [
    "The variance of residuals it relatively high, and the mean residual is small"
   ]
  },
  {
   "cell_type": "markdown",
   "metadata": {},
   "source": [
    "## Question 5: \n",
    "\n",
    "Generate a plot showing the fitted mean BMI as a function of age for Mexican American men.  Include a 95% simultaneous confidence band on your graph."
   ]
  },
  {
   "cell_type": "code",
   "execution_count": 56,
   "metadata": {},
   "outputs": [
    {
     "data": {
      "text/plain": [
       "Index(['BPXSY1', 'RIDAGEYR', 'RIAGENDR', 'RIDRETH1', 'DMDEDUC2', 'BMXBMI',\n",
       "       'SMQ020', 'ALQ110'],\n",
       "      dtype='object')"
      ]
     },
     "execution_count": 56,
     "metadata": {},
     "output_type": "execute_result"
    }
   ],
   "source": [
    "da.columns"
   ]
  },
  {
   "cell_type": "code",
   "execution_count": 57,
   "metadata": {
    "scrolled": true
   },
   "outputs": [
    {
     "name": "stderr",
     "output_type": "stream",
     "text": [
      "/opt/conda/lib/python3.6/site-packages/statsmodels/sandbox/predict_functional.py:171: ValueWarning: 'ALQ110' in data frame but not in summaries or values.\n",
      "  ValueWarning)\n"
     ]
    },
    {
     "data": {
      "image/png": "[encoded data removed]",
      "text/plain": [
       "<Figure size 432x288 with 1 Axes>"
      ]
     },
     "metadata": {},
     "output_type": "display_data"
    }
   ],
   "source": [
    "# Fix certain variables at reference values.  Not all of these\n",
    "# variables are used here, but we provide them with a value anyway\n",
    "# to prevent a warning message from appearing.\n",
    "values = {\"RIAGENDR\": \"Male\", \"RIDRETH1\": \"Mexican American\", \"DMDEDUC2\": 1, \"BPXSY1\": 1, \"SMQ020\": 1}\n",
    "\n",
    "# The returned values are the predicted values (pr), the confidence bands (cb),\n",
    "# and the function values (fv).\n",
    "pr, cb, fv = predict_functional(result, \"RIDAGEYR\",\n",
    "                values=values, ci_method=\"simultaneous\")\n",
    "\n",
    "fig, ax = plt.subplots()\n",
    "sns.lineplot(fv, pr, lw=4, ax=ax)\n",
    "ax.fill_between(fv, cb[:, 0], cb[:, 1], color='grey', alpha=0.4)\n",
    "ax.set_xlabel(\"Age\")\n",
    "_ = ax.set_ylabel(\"SBP\")"
   ]
  },
  {
   "cell_type": "markdown",
   "metadata": {},
   "source": [
    "__Q5a.__ According to your graph, what is the longest interval starting at year 30 following which the mean BMI could be constant?  *Hint:* What is the longest horizontal line starting at age 30 that remains within the confidence band?"
   ]
  },
  {
   "cell_type": "markdown",
   "metadata": {},
   "source": [
    "SBP between 30-31 look to be within the confidence bounds"
   ]
  },
  {
   "cell_type": "markdown",
   "metadata": {},
   "source": [
    "\n",
    "**Q5b.** Add an additional line and confidence band to the same plot, showing the relationship between age and BMI for Mexican American women. At what ages do these intervals not overlap?"
   ]
  },
  {
   "cell_type": "code",
   "execution_count": 58,
   "metadata": {
    "scrolled": false
   },
   "outputs": [
    {
     "name": "stderr",
     "output_type": "stream",
     "text": [
      "/opt/conda/lib/python3.6/site-packages/statsmodels/sandbox/predict_functional.py:171: ValueWarning: 'ALQ110' in data frame but not in summaries or values.\n",
      "  ValueWarning)\n",
      "/opt/conda/lib/python3.6/site-packages/statsmodels/sandbox/predict_functional.py:171: ValueWarning: 'ALQ110' in data frame but not in summaries or values.\n",
      "  ValueWarning)\n"
     ]
    },
    {
     "data": {
      "image/png": "[encoded data removed]",
      "text/plain": [
       "<Figure size 432x288 with 1 Axes>"
      ]
     },
     "metadata": {},
     "output_type": "display_data"
    }
   ],
   "source": [
    "# Fix certain variables at reference values.  Not all of these\n",
    "# variables are used here, but we provide them with a value anyway\n",
    "# to prevent a warning message from appearing.\n",
    "male_values = {\"RIAGENDR\": \"Male\", \"RIDRETH1\": \"Mexican American\", \"DMDEDUC2\": 1, \"BPXSY1\": 1, \"SMQ020\": 1}\n",
    "female_values = {\"RIAGENDR\": \"Female\", \"RIDRETH1\": \"Mexican American\", \"DMDEDUC2\": 1, \"BPXSY1\": 1, \"SMQ020\": 1}\n",
    "\n",
    "# The returned values are the predicted values (pr), the confidence bands (cb),\n",
    "# and the function values (fv).\n",
    "pr1, cb1, fv1 = predict_functional(result, \"RIDAGEYR\",\n",
    "                values=male_values, ci_method=\"simultaneous\")\n",
    "\n",
    "pr2, cb2, fv2 = predict_functional(result, \"RIDAGEYR\",\n",
    "                values=female_values, ci_method=\"simultaneous\")\n",
    "\n",
    "fig, ax = plt.subplots()\n",
    "sns.lineplot(fv1, pr1, lw=4, ax=ax, label=\"Male\")\n",
    "sns.lineplot(fv2, pr2, lw=4, ax=ax, label=\"Female\")\n",
    "ax.fill_between(fv1, cb1[:, 0], cb1[:, 1], color='grey', alpha=0.4)\n",
    "ax.fill_between(fv2, cb2[:, 0], cb2[:, 1], color='grey', alpha=0.4)\n",
    "ax.set_xlabel(\"Age\")\n",
    "_ = ax.set_ylabel(\"SBP\")\n",
    "plt.legend()\n",
    "plt.show()"
   ]
  },
  {
   "cell_type": "markdown",
   "metadata": {},
   "source": [
    "According to the plot above it looks like there is no break in overlap of the intervals of Mexican American Men and Mexican American Women."
   ]
  },
  {
   "cell_type": "markdown",
   "metadata": {},
   "source": [
    "# Question 6:"
   ]
  },
  {
   "cell_type": "markdown",
   "metadata": {},
   "source": [
    "Use an added variable plot to assess the linearity of the relationship between BMI and age (when controlling for gender and ethnicity)."
   ]
  },
  {
   "cell_type": "code",
   "execution_count": 85,
   "metadata": {},
   "outputs": [
    {
     "name": "stdout",
     "output_type": "stream",
     "text": [
      "                 Generalized Linear Model Regression Results                  \n",
      "==============================================================================\n",
      "Dep. Variable:                 BMXBMI   No. Observations:                 1473\n",
      "Model:                            GLM   Df Residuals:                     1466\n",
      "Model Family:                Gaussian   Df Model:                            6\n",
      "Link Function:               identity   Scale:                          49.864\n",
      "Method:                          IRLS   Log-Likelihood:                -4965.8\n",
      "Date:                Mon, 05 Jul 2021   Deviance:                       73100.\n",
      "Time:                        16:22:07   Pearson chi2:                 7.31e+04\n",
      "No. Iterations:                     3   Covariance Type:             nonrobust\n",
      "==================================================================================================\n",
      "                                     coef    std err          z      P>|z|      [0.025      0.975]\n",
      "--------------------------------------------------------------------------------------------------\n",
      "Intercept                         31.6846      0.682     46.453      0.000      30.348      33.021\n",
      "RIAGENDR[T.Male]                  -1.2017      0.407     -2.949      0.003      -2.000      -0.403\n",
      "RIDRETH1[T.Non-Hispanic Black]    -0.7502      0.569     -1.319      0.187      -1.865       0.365\n",
      "RIDRETH1[T.Non-Hispanic White]    -0.9866      0.562     -1.755      0.079      -2.089       0.115\n",
      "RIDRETH1[T.Other]                 -5.8381      0.588     -9.920      0.000      -6.992      -4.685\n",
      "RIDRETH1[T.Other Hispanic]        -1.0388      0.628     -1.654      0.098      -2.270       0.192\n",
      "RIDAGEYR                           0.0058      0.010      0.560      0.576      -0.015       0.026\n",
      "==================================================================================================\n"
     ]
    },
    {
     "data": {
      "image/png": "[encoded data removed]",
      "text/plain": [
       "<Figure size 432x288 with 1 Axes>"
      ]
     },
     "metadata": {},
     "output_type": "display_data"
    }
   ],
   "source": [
    "# This is not part of the main Statsmodels API, so needs to be imported separately\n",
    "from statsmodels.graphics.regressionplots import add_lowess\n",
    "\n",
    "# This is an equivalent way to fit a linear regression model, it needs to be\n",
    "# done this way to be able to make the added variable plot\n",
    "model = sm.GLM.from_formula(\"BMXBMI ~ RIDAGEYR + RIAGENDR + RIDRETH1\", data=da)\n",
    "result = model.fit()\n",
    "print(result.summary())\n",
    "\n",
    "fig = result.plot_added_variable(\"RIDAGEYR\")\n",
    "ax = fig.get_axes()[0]\n",
    "ax.lines[0].set_alpha(0.2)\n",
    "_ = add_lowess(ax)"
   ]
  },
  {
   "cell_type": "markdown",
   "metadata": {},
   "source": [
    "\n",
    "**Q6a.** What is your interpretation of the added variable plot?"
   ]
  },
  {
   "cell_type": "markdown",
   "metadata": {},
   "source": [
    "There is a non linear relationship between BMI and Age where young people and older people have smaller BMIs when controlling for Gener and Enthnicity than those who are at the middle of our age range in this data."
   ]
  },
  {
   "cell_type": "markdown",
   "metadata": {},
   "source": [
    "# Question 7: "
   ]
  },
  {
   "cell_type": "markdown",
   "metadata": {},
   "source": [
    "Generate a binary variable reflecting whether a person has had at least 12 drinks in their lifetime, based on the ALQ110 variable in NHANES. Calculate the marginal probability, odds, and log odds of this variable for women and for men. Then calculate the odds ratio for females relative to males."
   ]
  },
  {
   "cell_type": "code",
   "execution_count": 66,
   "metadata": {},
   "outputs": [],
   "source": [
    "da[\"ALCOHOL\"] = da['ALQ110'].replace({2: 0, 7: np.nan, 9: np.nan})"
   ]
  },
  {
   "cell_type": "code",
   "execution_count": 105,
   "metadata": {},
   "outputs": [
    {
     "name": "stdout",
     "output_type": "stream",
     "text": [
      "ALCOHOL        0.0       1.0      odds\n",
      "RIAGENDR                              \n",
      "Female    0.549228  0.450772  0.820738\n",
      "Male      0.537037  0.462963  0.862069\n",
      "\n",
      "\n",
      "                 Generalized Linear Model Regression Results                  \n",
      "==============================================================================\n",
      "Dep. Variable:                ALCOHOL   No. Observations:                 1468\n",
      "Model:                            GLM   Df Residuals:                     1466\n",
      "Model Family:                Binomial   Df Model:                            1\n",
      "Link Function:                  logit   Scale:                          1.0000\n",
      "Method:                          IRLS   Log-Likelihood:                -1011.3\n",
      "Date:                Mon, 05 Jul 2021   Deviance:                       2022.6\n",
      "Time:                        16:49:01   Pearson chi2:                 1.47e+03\n",
      "No. Iterations:                     4   Covariance Type:             nonrobust\n",
      "====================================================================================\n",
      "                       coef    std err          z      P>|z|      [0.025      0.975]\n",
      "------------------------------------------------------------------------------------\n",
      "Intercept           -0.1976      0.062     -3.164      0.002      -0.320      -0.075\n",
      "RIAGENDR[T.Male]     0.0491      0.115      0.427      0.669      -0.176       0.274\n",
      "====================================================================================\n",
      "\n",
      "\n",
      "odds ratio\n",
      "1.0503581185852469\n",
      "\n",
      "\n"
     ]
    }
   ],
   "source": [
    "c = pd.crosstab(da['RIAGENDR'], da['ALCOHOL']).apply(lambda x: x/x.sum(), axis=1)\n",
    "c[\"odds\"] = c.loc[:,1] / c.loc[:,0]\n",
    "print(c)\n",
    "print('\\n')\n",
    "\n",
    "model = sm.GLM.from_formula(\"ALCOHOL ~ RIAGENDR\", family=sm.families.Binomial(), data=da)\n",
    "result = model.fit()\n",
    "print(result.summary())\n",
    "print('\\n')\n",
    "\n",
    "print(\"odds ratio\")\n",
    "print(c.odds.Male / c.odds.Female)\n",
    "print(\"\\n\")"
   ]
  },
  {
   "cell_type": "markdown",
   "metadata": {},
   "source": [
    "**Q7a.** Based on the log odds alone, do more than 50% of women drink alcohol?"
   ]
  },
  {
   "cell_type": "markdown",
   "metadata": {},
   "source": [
    "No because the log odd is negative."
   ]
  },
  {
   "cell_type": "markdown",
   "metadata": {},
   "source": [
    "__Q7b.__ Does there appear to be an important difference between the alcohol use rate of women and men?"
   ]
  },
  {
   "cell_type": "markdown",
   "metadata": {},
   "source": [
    "There is a rather large p-value for males, which indicated that Gender is not the best predictor of alcohol use."
   ]
  },
  {
   "cell_type": "markdown",
   "metadata": {},
   "source": [
    "## Question 8: \n",
    "\n",
    "Use logistic regression to express the log odds that a person drinks (based on the binary drinking variable that you constructed above) in terms of gender."
   ]
  },
  {
   "cell_type": "code",
   "execution_count": 94,
   "metadata": {},
   "outputs": [
    {
     "name": "stdout",
     "output_type": "stream",
     "text": [
      "ALCOHOL        0.0       1.0      odds   logodds\n",
      "RIAGENDR                                        \n",
      "Female    0.549228  0.450772  0.820738 -0.197551\n",
      "Male      0.537037  0.462963  0.862069 -0.148420\n"
     ]
    }
   ],
   "source": [
    "c[\"logodds\"] = np.log(c.odds)\n",
    "print(c)"
   ]
  },
  {
   "cell_type": "markdown",
   "metadata": {},
   "source": [
    "__Q8a.__ Is there statistical evidence that the drinking rate differs between women and men?  If so, in what direction is there a difference?"
   ]
  },
  {
   "cell_type": "markdown",
   "metadata": {},
   "source": [
    "No there is not sufficient statistical evidence to say with confidence that the drinking rate differs between males and females."
   ]
  },
  {
   "cell_type": "markdown",
   "metadata": {},
   "source": [
    "__Q8b.__ Confirm that the log odds ratio between drinking and smoking calculated using the logistic regression model matches the log odds ratio calculated directly in question 6."
   ]
  },
  {
   "cell_type": "code",
   "execution_count": 91,
   "metadata": {},
   "outputs": [
    {
     "data": {
      "text/plain": [
       "0.0491311713391602"
      ]
     },
     "execution_count": 91,
     "metadata": {},
     "output_type": "execute_result"
    }
   ],
   "source": [
    "c.logodds.Male - c.logodds.Female"
   ]
  },
  {
   "cell_type": "markdown",
   "metadata": {},
   "source": [
    "Yes they match"
   ]
  },
  {
   "cell_type": "markdown",
   "metadata": {},
   "source": [
    "## Question 9: \n",
    "\n",
    "Use logistic regression to relate drinking to age, gender, and education."
   ]
  },
  {
   "cell_type": "code",
   "execution_count": 95,
   "metadata": {},
   "outputs": [],
   "source": [
    "# Labeled version of the education variable\n",
    "da[\"DMDEDUC2\"] = da.DMDEDUC2.replace({1: \"lt9\", 2: \"x9_11\", 3: \"HS\", 4: \"SomeCollege\", 5: \"College\", 7: np.nan, 9: np.nan})"
   ]
  },
  {
   "cell_type": "code",
   "execution_count": 107,
   "metadata": {},
   "outputs": [
    {
     "data": {
      "text/html": [
       "<table class=\"simpletable\">\n",
       "<caption>Generalized Linear Model Regression Results</caption>\n",
       "<tr>\n",
       "  <th>Dep. Variable:</th>       <td>ALCOHOL</td>     <th>  No. Observations:  </th>  <td>  1467</td>  \n",
       "</tr>\n",
       "<tr>\n",
       "  <th>Model:</th>                 <td>GLM</td>       <th>  Df Residuals:      </th>  <td>  1460</td>  \n",
       "</tr>\n",
       "<tr>\n",
       "  <th>Model Family:</th>       <td>Binomial</td>     <th>  Df Model:          </th>  <td>     6</td>  \n",
       "</tr>\n",
       "<tr>\n",
       "  <th>Link Function:</th>        <td>logit</td>      <th>  Scale:             </th> <td>  1.0000</td> \n",
       "</tr>\n",
       "<tr>\n",
       "  <th>Method:</th>               <td>IRLS</td>       <th>  Log-Likelihood:    </th> <td> -987.65</td> \n",
       "</tr>\n",
       "<tr>\n",
       "  <th>Date:</th>           <td>Mon, 05 Jul 2021</td> <th>  Deviance:          </th> <td>  1975.3</td> \n",
       "</tr>\n",
       "<tr>\n",
       "  <th>Time:</th>               <td>16:51:50</td>     <th>  Pearson chi2:      </th> <td>1.47e+03</td> \n",
       "</tr>\n",
       "<tr>\n",
       "  <th>No. Iterations:</th>         <td>4</td>        <th>  Covariance Type:   </th> <td>nonrobust</td>\n",
       "</tr>\n",
       "</table>\n",
       "<table class=\"simpletable\">\n",
       "<tr>\n",
       "             <td></td>                <th>coef</th>     <th>std err</th>      <th>z</th>      <th>P>|z|</th>  <th>[0.025</th>    <th>0.975]</th>  \n",
       "</tr>\n",
       "<tr>\n",
       "  <th>Intercept</th>               <td>   -0.4849</td> <td>    0.193</td> <td>   -2.519</td> <td> 0.012</td> <td>   -0.862</td> <td>   -0.108</td>\n",
       "</tr>\n",
       "<tr>\n",
       "  <th>RIAGENDR[T.Male]</th>        <td>    0.0313</td> <td>    0.117</td> <td>    0.267</td> <td> 0.789</td> <td>   -0.198</td> <td>    0.261</td>\n",
       "</tr>\n",
       "<tr>\n",
       "  <th>DMDEDUC2[T.HS]</th>          <td>   -0.0278</td> <td>    0.163</td> <td>   -0.170</td> <td> 0.865</td> <td>   -0.348</td> <td>    0.292</td>\n",
       "</tr>\n",
       "<tr>\n",
       "  <th>DMDEDUC2[T.SomeCollege]</th> <td>    0.1147</td> <td>    0.152</td> <td>    0.756</td> <td> 0.450</td> <td>   -0.183</td> <td>    0.412</td>\n",
       "</tr>\n",
       "<tr>\n",
       "  <th>DMDEDUC2[T.lt9]</th>         <td>   -0.8479</td> <td>    0.176</td> <td>   -4.814</td> <td> 0.000</td> <td>   -1.193</td> <td>   -0.503</td>\n",
       "</tr>\n",
       "<tr>\n",
       "  <th>DMDEDUC2[T.x9_11]</th>       <td>   -0.4496</td> <td>    0.190</td> <td>   -2.367</td> <td> 0.018</td> <td>   -0.822</td> <td>   -0.077</td>\n",
       "</tr>\n",
       "<tr>\n",
       "  <th>RIDAGEYR</th>                <td>    0.0090</td> <td>    0.003</td> <td>    2.975</td> <td> 0.003</td> <td>    0.003</td> <td>    0.015</td>\n",
       "</tr>\n",
       "</table>"
      ],
      "text/plain": [
       "<class 'statsmodels.iolib.summary.Summary'>\n",
       "\"\"\"\n",
       "                 Generalized Linear Model Regression Results                  \n",
       "==============================================================================\n",
       "Dep. Variable:                ALCOHOL   No. Observations:                 1467\n",
       "Model:                            GLM   Df Residuals:                     1460\n",
       "Model Family:                Binomial   Df Model:                            6\n",
       "Link Function:                  logit   Scale:                          1.0000\n",
       "Method:                          IRLS   Log-Likelihood:                -987.65\n",
       "Date:                Mon, 05 Jul 2021   Deviance:                       1975.3\n",
       "Time:                        16:51:50   Pearson chi2:                 1.47e+03\n",
       "No. Iterations:                     4   Covariance Type:             nonrobust\n",
       "===========================================================================================\n",
       "                              coef    std err          z      P>|z|      [0.025      0.975]\n",
       "-------------------------------------------------------------------------------------------\n",
       "Intercept                  -0.4849      0.193     -2.519      0.012      -0.862      -0.108\n",
       "RIAGENDR[T.Male]            0.0313      0.117      0.267      0.789      -0.198       0.261\n",
       "DMDEDUC2[T.HS]             -0.0278      0.163     -0.170      0.865      -0.348       0.292\n",
       "DMDEDUC2[T.SomeCollege]     0.1147      0.152      0.756      0.450      -0.183       0.412\n",
       "DMDEDUC2[T.lt9]            -0.8479      0.176     -4.814      0.000      -1.193      -0.503\n",
       "DMDEDUC2[T.x9_11]          -0.4496      0.190     -2.367      0.018      -0.822      -0.077\n",
       "RIDAGEYR                    0.0090      0.003      2.975      0.003       0.003       0.015\n",
       "===========================================================================================\n",
       "\"\"\""
      ]
     },
     "execution_count": 107,
     "metadata": {},
     "output_type": "execute_result"
    }
   ],
   "source": [
    "model = sm.GLM.from_formula(\"ALCOHOL ~ RIDAGEYR + RIAGENDR + DMDEDUC2\", family=sm.families.Binomial(), data=da)\n",
    "result = model.fit()\n",
    "result.summary()"
   ]
  },
  {
   "cell_type": "markdown",
   "metadata": {},
   "source": [
    "__Q9a.__ Which of these predictor variables shows a statistically significant association with drinking?"
   ]
  },
  {
   "cell_type": "markdown",
   "metadata": {},
   "source": [
    "That depends on what alpha we areusing to assess statistical significance, if we use an alpha of 0.05 then only age would be significant."
   ]
  },
  {
   "cell_type": "markdown",
   "metadata": {},
   "source": [
    "__Q9b.__ What is the odds of a college educated, 50 year old woman drinking?"
   ]
  },
  {
   "cell_type": "code",
   "execution_count": 108,
   "metadata": {},
   "outputs": [
    {
     "name": "stdout",
     "output_type": "stream",
     "text": [
      "0.9657019816273802\n"
     ]
    }
   ],
   "source": [
    "y_intercept = -0.4849\n",
    "RIDAGEYR_intercept = 0.0090\n",
    "odds = np.exp(y_intercept + (RIDAGEYR_intercept * 50))\n",
    "print(odds)"
   ]
  },
  {
   "cell_type": "markdown",
   "metadata": {},
   "source": [
    "The odds are slightly less than 1, meaning a little less than 50% probability."
   ]
  },
  {
   "cell_type": "markdown",
   "metadata": {},
   "source": [
    "__Q9c.__ What is the odds ratio between the drinking status for college graduates and high school graduates (with no college), holding gender and age fixed?"
   ]
  },
  {
   "cell_type": "code",
   "execution_count": 109,
   "metadata": {},
   "outputs": [
    {
     "name": "stdout",
     "output_type": "stream",
     "text": [
      "0.9725828639236711\n"
     ]
    }
   ],
   "source": [
    "COLLEGE_intercept = 0\n",
    "HS_intercept = -0.0278\n",
    "odds_ratio = np.exp(COLLEGE_intercept + HS_intercept)\n",
    "print(odds_ratio)"
   ]
  },
  {
   "cell_type": "markdown",
   "metadata": {},
   "source": [
    "High school students are less likely to drink than college students."
   ]
  },
  {
   "cell_type": "markdown",
   "metadata": {},
   "source": [
    "__Q9d.__ Did the regression parameter for gender change to a meaningful degree when age and education were added to the model?"
   ]
  },
  {
   "cell_type": "markdown",
   "metadata": {},
   "source": [
    "Yes the intercept went from .0491 to .0313"
   ]
  },
  {
   "cell_type": "markdown",
   "metadata": {},
   "source": [
    "## Question 10:\n",
    "\n",
    "Construct a CERES plot for the relationship between drinking and age (using the model that controls for gender and educational attainment)."
   ]
  },
  {
   "cell_type": "code",
   "execution_count": 110,
   "metadata": {},
   "outputs": [
    {
     "data": {
      "image/png": "[encoded data removed]",
      "text/plain": [
       "<Figure size 432x288 with 1 Axes>"
      ]
     },
     "metadata": {},
     "output_type": "display_data"
    }
   ],
   "source": [
    "fig = result.plot_ceres_residuals(\"RIDAGEYR\")\n",
    "ax = fig.get_axes()[0]\n",
    "ax.lines[0].set_alpha(0.2)\n",
    "_ = add_lowess(ax)"
   ]
  },
  {
   "cell_type": "markdown",
   "metadata": {},
   "source": [
    "__Q10a.__ Does the plot indicate any major non-linearity in the relationship between age and the log odds for drinking?"
   ]
  },
  {
   "cell_type": "markdown",
   "metadata": {},
   "source": [
    "Yes we can see that drinking rates increase with agr up until ~55 years old"
   ]
  }
 ],
 "metadata": {
  "kernelspec": {
   "display_name": "Python 3",
   "language": "python",
   "name": "python3"
  },
  "language_info": {
   "codemirror_mode": {
    "name": "ipython",
    "version": 3
   },
   "file_extension": ".py",
   "mimetype": "text/x-python",
   "name": "python",
   "nbconvert_exporter": "python",
   "pygments_lexer": "ipython3",
   "version": "3.6.3"
  }
 },
 "nbformat": 4,
 "nbformat_minor": 1
}
