{
 "cells": [
  {
   "cell_type": "markdown",
   "metadata": {},
   "source": [
    "# Practice notebook for regression analysis with dependent data in NHANES\n",
    "\n",
    "This notebook will give you the opportunity to perform some analyses\n",
    "using the regression methods for dependent data that we are focusing\n",
    "on in this week of the course.\n",
    "\n",
    "Enter the code in response to each question in the boxes labeled \"enter your code here\".\n",
    "Then enter your responses to the questions in the boxes labeled \"Type\n",
    "Markdown and Latex\".\n",
    "\n",
    "This notebook is based on the NHANES case study notebook for\n",
    "regression with dependent data.  Most of the code that you will need\n",
    "to write below is very similar to code that appears in the case study\n",
    "notebook.  You will need to edit code from that notebook in small ways\n",
    "to adapt it to the prompts below.\n",
    "\n",
    "To get started, we will use the same module imports and read the data\n",
    "in the same way as we did in the case study:"
   ]
  },
  {
   "cell_type": "code",
   "execution_count": 6,
   "metadata": {},
   "outputs": [],
   "source": [
    "%matplotlib inline\n",
    "import matplotlib.pyplot as plt\n",
    "import seaborn as sns\n",
    "import pandas as pd\n",
    "import statsmodels.api as sm\n",
    "import numpy as np\n",
    "\n",
    "url = \"nhanes_2015_2016.csv\"\n",
    "da = pd.read_csv(url)\n",
    "\n",
    "# Drop unused columns, drop rows with any missing values.\n",
    "vars = [\"BPXDI1\",\"BPXSY1\", \"RIDAGEYR\", \"RIAGENDR\", \"RIDRETH1\", \"DMDEDUC2\", \"BMXBMI\",\n",
    "        \"SMQ020\", \"SDMVSTRA\", \"SDMVPSU\"]\n",
    "da = da[vars].dropna()\n",
    "\n",
    "# This is the grouping variable\n",
    "da[\"group\"] = 10*da.SDMVSTRA + da.SDMVPSU"
   ]
  },
  {
   "cell_type": "markdown",
   "metadata": {},
   "source": [
    "## Question 1: \n",
    "\n",
    "Build a marginal linear model using GEE for the first measurement of diastolic blood pressure (`BPXDI1`), accounting for the grouping variable defined above.  This initial model should have no covariates, and will be used to assess the ICC of this blood pressure measure."
   ]
  },
  {
   "cell_type": "code",
   "execution_count": 7,
   "metadata": {},
   "outputs": [
    {
     "data": {
      "text/plain": [
       "Index(['BPXDI1', 'BPXSY1', 'RIDAGEYR', 'RIAGENDR', 'RIDRETH1', 'DMDEDUC2',\n",
       "       'BMXBMI', 'SMQ020', 'SDMVSTRA', 'SDMVPSU', 'group'],\n",
       "      dtype='object')"
      ]
     },
     "execution_count": 7,
     "metadata": {},
     "output_type": "execute_result"
    }
   ],
   "source": [
    "da.columns"
   ]
  },
  {
   "cell_type": "code",
   "execution_count": 9,
   "metadata": {},
   "outputs": [
    {
     "name": "stdout",
     "output_type": "stream",
     "text": [
      "The correlation between two observations in the same cluster is 0.031\n"
     ]
    }
   ],
   "source": [
    "model = sm.GEE.from_formula(\"BPXDI1 ~ 1\", groups=\"group\",\n",
    "           cov_struct=sm.cov_struct.Exchangeable(), data=da)\n",
    "result = model.fit()\n",
    "print(result.cov_struct.summary())"
   ]
  },
  {
   "cell_type": "markdown",
   "metadata": {},
   "source": [
    "__Q1a.__ What is the ICC for diastolic blood pressure?  What can you\n",
    "  conclude by comparing it to the ICC for systolic blood pressure?"
   ]
  },
  {
   "cell_type": "markdown",
   "metadata": {},
   "source": [
    "The ICC for diastolic blood pressure is 0.031, which is very close to the ICC for systolic blood pressure which we observed in a previous notebook to be 0.030. This is a small ICC but not insignificant, it proves that both blood pressure measurements are correlated within our clusters."
   ]
  },
  {
   "cell_type": "markdown",
   "metadata": {},
   "source": [
    "## Question 2: \n",
    "\n",
    "Take your model from question 1, and add gender, age, and BMI to it as covariates."
   ]
  },
  {
   "cell_type": "code",
   "execution_count": 10,
   "metadata": {},
   "outputs": [
    {
     "name": "stdout",
     "output_type": "stream",
     "text": [
      "The correlation between two observations in the same cluster is 0.030\n"
     ]
    }
   ],
   "source": [
    "model = sm.GEE.from_formula(\"BPXDI1 ~ RIAGENDR + RIDAGEYR + BMXBMI\", groups=\"group\",\n",
    "           cov_struct=sm.cov_struct.Exchangeable(), data=da)\n",
    "result = model.fit()\n",
    "print(result.cov_struct.summary())"
   ]
  },
  {
   "cell_type": "markdown",
   "metadata": {},
   "source": [
    "__Q2a.__ What is the ICC for this model?  What can you conclude by comparing it to the ICC for the model that you fit in question 1?"
   ]
  },
  {
   "cell_type": "markdown",
   "metadata": {},
   "source": [
    "The ICC for this model is 0.030 which is very similar to the model fit in the previous question. This shows that even when we add more explanatory variables to our model, the correlation of diastolic blood pressure within our clusters remains relatively unchanged."
   ]
  },
  {
   "cell_type": "markdown",
   "metadata": {},
   "source": [
    "## Question 3: \n",
    "\n",
    "Split the data into separate datasets for females and for males and fit two separate marginal linear models for diastolic blood pressure, one only for females, and one only for males."
   ]
  },
  {
   "cell_type": "code",
   "execution_count": 14,
   "metadata": {},
   "outputs": [
    {
     "name": "stdout",
     "output_type": "stream",
     "text": [
      "           male_params   male_SE  female_params  female_SE\n",
      "Intercept    74.601880  0.982582      69.615209   0.957849\n",
      "RIDAGEYR     -0.067271  0.017352      -0.017276   0.019320\n",
      "\n",
      "\n",
      "Male model ICC\n",
      "The correlation between two observations in the same cluster is 0.032\n",
      "\n",
      "\n",
      "Female model ICC\n",
      "The correlation between two observations in the same cluster is 0.028\n"
     ]
    }
   ],
   "source": [
    "da[\"RIAGENDR\"] = da[\"RIAGENDR\"].replace({1: \"Male\", 2: \"Female\"})\n",
    "male_da = da.loc[da[\"RIAGENDR\"] == \"Male\"]\n",
    "female_da = da.loc[da[\"RIAGENDR\"] == \"Female\"]\n",
    "\n",
    "# female model\n",
    "model1 = sm.GEE.from_formula(\"BPXDI1 ~ RIDAGEYR\",\n",
    "           groups=\"group\",\n",
    "           cov_struct=sm.cov_struct.Exchangeable(), data=male_da)\n",
    "result1 = model1.fit()\n",
    "\n",
    "# female model\n",
    "model2 = sm.GEE.from_formula(\"BPXDI1 ~ RIDAGEYR\",\n",
    "           groups=\"group\",\n",
    "           cov_struct=sm.cov_struct.Exchangeable(), data=female_da)\n",
    "result2 = model2.fit()\n",
    "\n",
    "x = pd.DataFrame({\"male_params\": result1.params, \"male_SE\": result1.bse,\n",
    "                  \"female_params\": result2.params, \"female_SE\": result2.bse})\n",
    "x = x[[\"male_params\", \"male_SE\", \"female_params\", \"female_SE\"]]\n",
    "print(x)\n",
    "print('\\n')\n",
    "print('Male model ICC')\n",
    "print(result1.cov_struct.summary())\n",
    "print('\\n')\n",
    "print('Female model ICC')\n",
    "print(result2.cov_struct.summary())"
   ]
  },
  {
   "cell_type": "markdown",
   "metadata": {},
   "source": [
    "__Q3a.__ What do you learn by comparing these two fitted models?"
   ]
  },
  {
   "cell_type": "markdown",
   "metadata": {},
   "source": [
    "We see that the ICC for the two models differ. This means that gender is a variable that helps explain some of the intercluster dependency that we see in our data when ."
   ]
  },
  {
   "cell_type": "markdown",
   "metadata": {},
   "source": [
    "## Question 4: \n",
    "\n",
    "Using the entire data set, fit a multilevel model for diastolic blood pressure, predicted by age, gender, BMI, and educational attainment.  Include a random intercept for groups."
   ]
  },
  {
   "cell_type": "code",
   "execution_count": 15,
   "metadata": {},
   "outputs": [
    {
     "data": {
      "text/html": [
       "<table class=\"simpletable\">\n",
       "<tr>\n",
       "       <td>Model:</td>       <td>MixedLM</td> <td>Dependent Variable:</td>   <td>BPXDI1</td>   \n",
       "</tr>\n",
       "<tr>\n",
       "  <td>No. Observations:</td>  <td>5102</td>         <td>Method:</td>          <td>REML</td>    \n",
       "</tr>\n",
       "<tr>\n",
       "     <td>No. Groups:</td>      <td>30</td>          <td>Scale:</td>         <td>153.0915</td>  \n",
       "</tr>\n",
       "<tr>\n",
       "  <td>Min. group size:</td>    <td>106</td>       <td>Likelihood:</td>     <td>-20100.7500</td>\n",
       "</tr>\n",
       "<tr>\n",
       "  <td>Max. group size:</td>    <td>226</td>       <td>Converged:</td>          <td>Yes</td>    \n",
       "</tr>\n",
       "<tr>\n",
       "  <td>Mean group size:</td>   <td>170.1</td>           <td></td>                <td></td>      \n",
       "</tr>\n",
       "</table>\n",
       "<table class=\"simpletable\">\n",
       "<tr>\n",
       "          <td></td>          <th>Coef.</th> <th>Std.Err.</th>    <th>z</th>   <th>P>|z|</th> <th>[0.025</th> <th>0.975]</th>\n",
       "</tr>\n",
       "<tr>\n",
       "  <th>Intercept</th>        <td>63.218</td>   <td>1.117</td>  <td>56.595</td> <td>0.000</td> <td>61.029</td> <td>65.407</td>\n",
       "</tr>\n",
       "<tr>\n",
       "  <th>RIAGENDR[T.Male]</th>  <td>2.750</td>   <td>0.349</td>   <td>7.883</td> <td>0.000</td>  <td>2.066</td>  <td>3.433</td>\n",
       "</tr>\n",
       "<tr>\n",
       "  <th>C(RIDRETH1)[T.2]</th>  <td>1.505</td>   <td>0.697</td>   <td>2.160</td> <td>0.031</td>  <td>0.139</td>  <td>2.871</td>\n",
       "</tr>\n",
       "<tr>\n",
       "  <th>C(RIDRETH1)[T.3]</th>  <td>0.512</td>   <td>0.597</td>   <td>0.858</td> <td>0.391</td> <td>-0.658</td>  <td>1.682</td>\n",
       "</tr>\n",
       "<tr>\n",
       "  <th>C(RIDRETH1)[T.4]</th>  <td>2.537</td>   <td>0.659</td>   <td>3.852</td> <td>0.000</td>  <td>1.246</td>  <td>3.828</td>\n",
       "</tr>\n",
       "<tr>\n",
       "  <th>C(RIDRETH1)[T.5]</th>  <td>3.491</td>   <td>0.690</td>   <td>5.061</td> <td>0.000</td>  <td>2.139</td>  <td>4.843</td>\n",
       "</tr>\n",
       "<tr>\n",
       "  <th>RIDAGEYR</th>         <td>-0.036</td>   <td>0.010</td>  <td>-3.590</td> <td>0.000</td> <td>-0.056</td> <td>-0.016</td>\n",
       "</tr>\n",
       "<tr>\n",
       "  <th>BMXBMI</th>            <td>0.197</td>   <td>0.026</td>   <td>7.642</td> <td>0.000</td>  <td>0.147</td>  <td>0.248</td>\n",
       "</tr>\n",
       "<tr>\n",
       "  <th>group Var</th>         <td>4.196</td>   <td>0.110</td>     <td></td>      <td></td>       <td></td>       <td></td>   \n",
       "</tr>\n",
       "</table>"
      ],
      "text/plain": [
       "<class 'statsmodels.iolib.summary2.Summary'>\n",
       "\"\"\"\n",
       "           Mixed Linear Model Regression Results\n",
       "===========================================================\n",
       "Model:              MixedLM Dependent Variable: BPXDI1     \n",
       "No. Observations:   5102    Method:             REML       \n",
       "No. Groups:         30      Scale:              153.0915   \n",
       "Min. group size:    106     Likelihood:         -20100.7500\n",
       "Max. group size:    226     Converged:          Yes        \n",
       "Mean group size:    170.1                                  \n",
       "-----------------------------------------------------------\n",
       "                 Coef.  Std.Err.   z    P>|z| [0.025 0.975]\n",
       "-----------------------------------------------------------\n",
       "Intercept        63.218    1.117 56.595 0.000 61.029 65.407\n",
       "RIAGENDR[T.Male]  2.750    0.349  7.883 0.000  2.066  3.433\n",
       "C(RIDRETH1)[T.2]  1.505    0.697  2.160 0.031  0.139  2.871\n",
       "C(RIDRETH1)[T.3]  0.512    0.597  0.858 0.391 -0.658  1.682\n",
       "C(RIDRETH1)[T.4]  2.537    0.659  3.852 0.000  1.246  3.828\n",
       "C(RIDRETH1)[T.5]  3.491    0.690  5.061 0.000  2.139  4.843\n",
       "RIDAGEYR         -0.036    0.010 -3.590 0.000 -0.056 -0.016\n",
       "BMXBMI            0.197    0.026  7.642 0.000  0.147  0.248\n",
       "group Var         4.196    0.110                           \n",
       "===========================================================\n",
       "\n",
       "\"\"\""
      ]
     },
     "execution_count": 15,
     "metadata": {},
     "output_type": "execute_result"
    }
   ],
   "source": [
    "# Fit a multilevel (mixed effects) model to handle dependent data\n",
    "model = sm.MixedLM.from_formula(\"BPXDI1 ~ RIDAGEYR + RIAGENDR + BMXBMI + C(RIDRETH1)\",\n",
    "           groups=\"group\", data=da)\n",
    "result = model.fit()\n",
    "result.summary()"
   ]
  },
  {
   "cell_type": "markdown",
   "metadata": {},
   "source": [
    "__Q4a.__ How would you describe the strength of the clustering in this analysis?"
   ]
  },
  {
   "cell_type": "markdown",
   "metadata": {},
   "source": [
    "The variance for the groups estimated to be 4.196. This means that if we were to choose two groups at random, their random effects would differ on average by around 2.89 (this is calculated as the square root of 2*4.196). This means that there is significant differences between the slopes and intercepts of our groups."
   ]
  },
  {
   "cell_type": "code",
   "execution_count": 20,
   "metadata": {},
   "outputs": [
    {
     "name": "stderr",
     "output_type": "stream",
     "text": [
      "/opt/conda/lib/python3.6/site-packages/statsmodels/regression/mixed_linear_model.py:2045: ConvergenceWarning: The MLE may be on the boundary of the parameter space.\n",
      "  warnings.warn(msg, ConvergenceWarning)\n"
     ]
    },
    {
     "data": {
      "text/html": [
       "<table class=\"simpletable\">\n",
       "<tr>\n",
       "       <td>Model:</td>       <td>MixedLM</td> <td>Dependent Variable:</td>   <td>BPXDI1</td>   \n",
       "</tr>\n",
       "<tr>\n",
       "  <td>No. Observations:</td>  <td>5102</td>         <td>Method:</td>          <td>REML</td>    \n",
       "</tr>\n",
       "<tr>\n",
       "     <td>No. Groups:</td>      <td>30</td>          <td>Scale:</td>         <td>152.1061</td>  \n",
       "</tr>\n",
       "<tr>\n",
       "  <td>Min. group size:</td>    <td>106</td>       <td>Likelihood:</td>     <td>-20095.1838</td>\n",
       "</tr>\n",
       "<tr>\n",
       "  <td>Max. group size:</td>    <td>226</td>       <td>Converged:</td>          <td>Yes</td>    \n",
       "</tr>\n",
       "<tr>\n",
       "  <td>Mean group size:</td>   <td>170.1</td>           <td></td>                <td></td>      \n",
       "</tr>\n",
       "</table>\n",
       "<table class=\"simpletable\">\n",
       "<tr>\n",
       "            <td></td>            <th>Coef.</th> <th>Std.Err.</th>    <th>z</th>   <th>P>|z|</th> <th>[0.025</th> <th>0.975]</th>\n",
       "</tr>\n",
       "<tr>\n",
       "  <th>Intercept</th>            <td>63.270</td>   <td>1.198</td>  <td>52.830</td> <td>0.000</td> <td>60.923</td> <td>65.618</td>\n",
       "</tr>\n",
       "<tr>\n",
       "  <th>RIAGENDR[T.Male]</th>      <td>2.749</td>   <td>0.348</td>   <td>7.895</td> <td>0.000</td>  <td>2.067</td>  <td>3.432</td>\n",
       "</tr>\n",
       "<tr>\n",
       "  <th>C(RIDRETH1)[T.2]</th>      <td>1.420</td>   <td>0.697</td>   <td>2.038</td> <td>0.042</td>  <td>0.055</td>  <td>2.786</td>\n",
       "</tr>\n",
       "<tr>\n",
       "  <th>C(RIDRETH1)[T.3]</th>      <td>0.381</td>   <td>0.600</td>   <td>0.636</td> <td>0.525</td> <td>-0.794</td>  <td>1.556</td>\n",
       "</tr>\n",
       "<tr>\n",
       "  <th>C(RIDRETH1)[T.4]</th>      <td>2.413</td>   <td>0.659</td>   <td>3.662</td> <td>0.000</td>  <td>1.122</td>  <td>3.704</td>\n",
       "</tr>\n",
       "<tr>\n",
       "  <th>C(RIDRETH1)[T.5]</th>      <td>3.317</td>   <td>0.690</td>   <td>4.804</td> <td>0.000</td>  <td>1.964</td>  <td>4.670</td>\n",
       "</tr>\n",
       "<tr>\n",
       "  <th>RIDAGEYR</th>             <td>-0.032</td>   <td>0.015</td>  <td>-2.164</td> <td>0.030</td> <td>-0.061</td> <td>-0.003</td>\n",
       "</tr>\n",
       "<tr>\n",
       "  <th>BMXBMI</th>                <td>0.195</td>   <td>0.026</td>   <td>7.587</td> <td>0.000</td>  <td>0.145</td>  <td>0.246</td>\n",
       "</tr>\n",
       "<tr>\n",
       "  <th>group Var</th>             <td>9.731</td>   <td>0.379</td>     <td></td>      <td></td>       <td></td>       <td></td>   \n",
       "</tr>\n",
       "<tr>\n",
       "  <th>group x RIDAGEYR Cov</th> <td>-0.142</td>   <td>0.007</td>     <td></td>      <td></td>       <td></td>       <td></td>   \n",
       "</tr>\n",
       "<tr>\n",
       "  <th>RIDAGEYR Var</th>          <td>0.003</td>   <td>0.000</td>     <td></td>      <td></td>       <td></td>       <td></td>   \n",
       "</tr>\n",
       "</table>"
      ],
      "text/plain": [
       "<class 'statsmodels.iolib.summary2.Summary'>\n",
       "\"\"\"\n",
       "             Mixed Linear Model Regression Results\n",
       "===============================================================\n",
       "Model:              MixedLM   Dependent Variable:   BPXDI1     \n",
       "No. Observations:   5102      Method:               REML       \n",
       "No. Groups:         30        Scale:                152.1061   \n",
       "Min. group size:    106       Likelihood:           -20095.1838\n",
       "Max. group size:    226       Converged:            Yes        \n",
       "Mean group size:    170.1                                      \n",
       "---------------------------------------------------------------\n",
       "                     Coef.  Std.Err.   z    P>|z| [0.025 0.975]\n",
       "---------------------------------------------------------------\n",
       "Intercept            63.270    1.198 52.830 0.000 60.923 65.618\n",
       "RIAGENDR[T.Male]      2.749    0.348  7.895 0.000  2.067  3.432\n",
       "C(RIDRETH1)[T.2]      1.420    0.697  2.038 0.042  0.055  2.786\n",
       "C(RIDRETH1)[T.3]      0.381    0.600  0.636 0.525 -0.794  1.556\n",
       "C(RIDRETH1)[T.4]      2.413    0.659  3.662 0.000  1.122  3.704\n",
       "C(RIDRETH1)[T.5]      3.317    0.690  4.804 0.000  1.964  4.670\n",
       "RIDAGEYR             -0.032    0.015 -2.164 0.030 -0.061 -0.003\n",
       "BMXBMI                0.195    0.026  7.587 0.000  0.145  0.246\n",
       "group Var             9.731    0.379                           \n",
       "group x RIDAGEYR Cov -0.142    0.007                           \n",
       "RIDAGEYR Var          0.003    0.000                           \n",
       "===============================================================\n",
       "\n",
       "\"\"\""
      ]
     },
     "execution_count": 20,
     "metadata": {},
     "output_type": "execute_result"
    }
   ],
   "source": [
    "model = sm.MixedLM.from_formula(\"BPXDI1 ~ RIDAGEYR + RIAGENDR + BMXBMI + C(RIDRETH1)\", \n",
    "                                groups=\"group\", re_formula = '1 + RIDAGEYR', data=da)\n",
    "result = model.fit()\n",
    "result.summary()"
   ]
  },
  {
   "cell_type": "markdown",
   "metadata": {},
   "source": [
    "__Q4b:__ Include a random intercept for age, and describe your findings."
   ]
  },
  {
   "cell_type": "markdown",
   "metadata": {},
   "source": [
    "The variance for our random intercept for age is very small, this lets me know that age does not have much bearing on the inter-cluster dependency that we observed in the previous question."
   ]
  }
 ],
 "metadata": {
  "kernelspec": {
   "display_name": "Python 3",
   "language": "python",
   "name": "python3"
  },
  "language_info": {
   "codemirror_mode": {
    "name": "ipython",
    "version": 3
   },
   "file_extension": ".py",
   "mimetype": "text/x-python",
   "name": "python",
   "nbconvert_exporter": "python",
   "pygments_lexer": "ipython3",
   "version": "3.6.3"
  }
 },
 "nbformat": 4,
 "nbformat_minor": 1
}
