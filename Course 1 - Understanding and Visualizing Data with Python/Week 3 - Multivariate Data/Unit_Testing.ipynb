{
 "cells": [
  {
   "cell_type": "markdown",
   "metadata": {},
   "source": [
    "## Unit Testing\n",
    "While we will not cover the [unit testing library](https://docs.python.org/3/library/unittest.html) that python has, we wanted to introduce you to a simple way that you can test your code.\n",
    "\n",
    "Unit testing is important because it the only way you can be sure that your code is do what you think it is doing. \n",
    "\n",
    "Remember, just because ther are no errors does not mean your code is correct."
   ]
  },
  {
   "cell_type": "code",
   "execution_count": null,
   "metadata": {
    "collapsed": true
   },
   "outputs": [],
   "source": [
    "import numpy as np\n",
    "import pandas as pd\n",
    "import matplotlib as plt\n",
    "pd.set_option('display.max_columns', 100) # Show all columns when looking at dataframe"
   ]
  },
  {
   "cell_type": "code",
   "execution_count": null,
   "metadata": {},
   "outputs": [],
   "source": [
    "# Download NHANES 2015-2016 data\n",
    "df = pd.read_csv(\"nhanes_2015_2016.csv\")\n",
    "df.index = range(1,df.shape[0]+1)"
   ]
  },
  {
   "cell_type": "code",
   "execution_count": null,
   "metadata": {},
   "outputs": [],
   "source": [
    "df.head()"
   ]
  },
  {
   "cell_type": "markdown",
   "metadata": {},
   "source": [
    "### Goal\n",
    "We want to find the mean of first 100 rows of 'BPXSY1' when 'RIDAGEYR' > 60"
   ]
  },
  {
   "cell_type": "code",
   "execution_count": null,
   "metadata": {},
   "outputs": [],
   "source": [
    "# One possible way of doing this is:\n",
    "pd.Series.mean(df[df.RIDAGEYR > 60].loc[range(0,100), 'BPXSY1']) \n",
    "# Current version of python will include this warning, older versions will not"
   ]
  },
  {
   "cell_type": "code",
   "execution_count": null,
   "metadata": {},
   "outputs": [],
   "source": [
    "# test our code on only ten rows so we can easily check\n",
    "test = pd.DataFrame({'col1': np.repeat([3,1],5), 'col2': range(3,13)}, index=range(1,11))\n",
    "test"
   ]
  },
  {
   "cell_type": "code",
   "execution_count": null,
   "metadata": {},
   "outputs": [],
   "source": [
    "# pd.Series.mean(df[df.RIDAGEYR > 60].loc[range(0,5), 'BPXSY1'])\n",
    "# should return 5\n",
    "\n",
    "pd.Series.mean(test[test.col1 > 2].loc[range(0,5), 'col2'])"
   ]
  },
  {
   "cell_type": "markdown",
   "metadata": {},
   "source": [
    "What went wrong?"
   ]
  },
  {
   "cell_type": "code",
   "execution_count": null,
   "metadata": {},
   "outputs": [],
   "source": [
    "test[test.col1 > 2].loc[range(0,5), 'col2']\n",
    "# 0 is not in the row index labels because the second row's value is < 2. For now, pandas defaults to filling this\n",
    "# with NaN"
   ]
  },
  {
   "cell_type": "code",
   "execution_count": null,
   "metadata": {},
   "outputs": [],
   "source": [
    "# Using the .iloc method instead, we are correctly choosing the first 5 rows, regardless of their row labels\n",
    "test[test.col1 >2].iloc[range(0,5), 1]"
   ]
  },
  {
   "cell_type": "code",
   "execution_count": null,
   "metadata": {},
   "outputs": [],
   "source": [
    "pd.Series.mean(test[test.col1 >2].iloc[range(0,5), 1])"
   ]
  },
  {
   "cell_type": "code",
   "execution_count": null,
   "metadata": {},
   "outputs": [],
   "source": [
    "# We can compare what our real dataframe looks like with the incorrect and correct methods\n",
    "df[df.RIDAGEYR > 60].loc[range(0,5), :] # Filled with NaN whenever a row label does not meet the condition"
   ]
  },
  {
   "cell_type": "code",
   "execution_count": null,
   "metadata": {},
   "outputs": [],
   "source": [
    "df[df.RIDAGEYR > 60].iloc[range(0,5), :] # Correct picks the first fice rows such that 'RIDAGEYR\" > 60"
   ]
  },
  {
   "cell_type": "code",
   "execution_count": null,
   "metadata": {},
   "outputs": [],
   "source": [
    "# Applying the correct method to the original question about BPXSY1\n",
    "print(pd.Series.mean(df[df.RIDAGEYR > 60].iloc[range(0,100), 16]))\n",
    "\n",
    "# Another way to reference the BPXSY1 variable\n",
    "print(pd.Series.mean(df[df.RIDAGEYR > 60].iloc[range(0,100), df.columns.get_loc('BPXSY1')]))"
   ]
  }
 ],
 "metadata": {
  "kernelspec": {
   "display_name": "Python 3",
   "language": "python",
   "name": "python3"
  },
  "language_info": {
   "codemirror_mode": {
    "name": "ipython",
    "version": 3
   },
   "file_extension": ".py",
   "mimetype": "text/x-python",
   "name": "python",
   "nbconvert_exporter": "python",
   "pygments_lexer": "ipython3",
   "version": "3.6.3"
  }
 },
 "nbformat": 4,
 "nbformat_minor": 2
}