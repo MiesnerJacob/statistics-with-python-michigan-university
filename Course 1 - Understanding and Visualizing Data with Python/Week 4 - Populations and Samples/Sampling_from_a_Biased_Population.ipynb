{
 "cells": [
  {
   "cell_type": "markdown",
   "metadata": {},
   "source": [
    "## Sampling from a Biased Population\n",
    "In this tutorial we will go over some code that recreates the visualizations in the Interactive Sampling Distribution Demo. This demo looks at a hypothetical problem that illustrates what happens when we sample from a biased population and not the entire population we are interested in. This tutorial assumes that you have seen that demo, for context, and understand the statistics behind the graphs. "
   ]
  },
  {
   "cell_type": "code",
   "execution_count": null,
   "metadata": {},
   "outputs": [],
   "source": [
    "# Import the packages that we will be using for the tutorial\n",
    "import numpy as np # for sampling for the distributions\n",
    "import matplotlib.pyplot as plt # for basic plotting \n",
    "import seaborn as sns; sns.set() # for plotting of the histograms\n",
    "\n",
    "# Recreate the simulations from the video \n",
    "mean_uofm = 155\n",
    "sd_uofm = 5\n",
    "mean_gym = 185 \n",
    "sd_gym = 5 \n",
    "gymperc = .3\n",
    "totalPopSize = 40000\n",
    "\n",
    "# Create the two subgroups\n",
    "uofm_students = np.random.normal(mean_uofm, sd_uofm, int(totalPopSize * (1 - gymperc)))\n",
    "students_at_gym = np.random.normal(mean_gym, sd_gym, int(totalPopSize * (gymperc)))\n",
    "\n",
    "# Create the population from the subgroups\n",
    "population = np.append(uofm_students, students_at_gym)\n",
    "\n",
    "# Set up the figure for plotting\n",
    "plt.figure(figsize=(10,12))\n",
    "\n",
    "# Plot the UofM students only\n",
    "plt.subplot(3,1,1)\n",
    "sns.distplot(uofm_students)\n",
    "plt.title(\"UofM Students Only\")\n",
    "plt.xlim([140,200])\n",
    "\n",
    "# Plot the Gym Goers only\n",
    "plt.subplot(3,1,2)\n",
    "sns.distplot(students_at_gym)\n",
    "plt.title(\"Gym Goers Only\")\n",
    "plt.xlim([140,200])\n",
    "\n",
    "# Plot both groups together\n",
    "plt.subplot(3,1,3)\n",
    "sns.distplot(population)\n",
    "plt.title(\"Full Population of UofM Students\")\n",
    "plt.axvline(x = np.mean(population))\n",
    "plt.xlim([140,200])\n",
    "\n",
    "plt.show()"
   ]
  },
  {
   "cell_type": "markdown",
   "metadata": {},
   "source": [
    "## What Happens if We Sample from the Entire Population?\n",
    "We will sample randomly from all students at the University of Michigan."
   ]
  },
  {
   "cell_type": "code",
   "execution_count": null,
   "metadata": {},
   "outputs": [],
   "source": [
    "# Simulation parameters\n",
    "numberSamps = 5000\n",
    "sampSize = 50\n",
    "\n",
    "# Get the sampling distribution of the mean from only the gym\n",
    "mean_distribution = np.empty(numberSamps)\n",
    "for i in xrange(numberSamps):\n",
    "    random_students = np.random.choice(population, sampSize)\n",
    "    mean_distribution[i] = np.mean(random_students)\n",
    "    \n",
    "# Plot the population and the biased sampling distribution\n",
    "plt.figure(figsize = (10,8))\n",
    "\n",
    "# Plotting the population again\n",
    "plt.subplot(2,1,1)\n",
    "sns.distplot(population)\n",
    "plt.title(\"Full Population of UofM Students\")\n",
    "plt.axvline(x = np.mean(population))\n",
    "plt.xlim([140,200])\n",
    "\n",
    "# Plotting the sampling distribution\n",
    "plt.subplot(2,1,2)\n",
    "sns.distplot(mean_distribution)\n",
    "plt.title(\"Sampling Distribution of the Mean Weight of All UofM Students\")\n",
    "plt.axvline(x = np.mean(population))\n",
    "plt.axvline(x = np.mean(mean_distribution), color = \"black\")\n",
    "plt.xlim([140,200])\n",
    "\n",
    "plt.show()"
   ]
  },
  {
   "cell_type": "markdown",
   "metadata": {},
   "source": [
    "## What Happens if We take a Non-Representative Sample?\n",
    "What happens if I only go to the gym to get the weight of individuals, and I don't sample randomly from all students at the University of Michigan?"
   ]
  },
  {
   "cell_type": "code",
   "execution_count": null,
   "metadata": {},
   "outputs": [],
   "source": [
    "# Simulation parameters\n",
    "numberSamps = 5000\n",
    "sampSize = 3\n",
    "\n",
    "# Get the sampling distribution of the mean from only the gym\n",
    "mean_distribution = np.empty(numberSamps)\n",
    "for i in xrange(numberSamps):\n",
    "    random_students = np.random.choice(students_at_gym, sampSize)\n",
    "    mean_distribution[i] = np.mean(random_students) \n",
    "    \n",
    "\n",
    "# Plot the population and the biased sampling distribution\n",
    "plt.figure(figsize = (10,8))\n",
    "\n",
    "# Plotting the population again\n",
    "plt.subplot(2,1,1)\n",
    "sns.distplot(population)\n",
    "plt.title(\"Full Population of UofM Students\")\n",
    "plt.axvline(x = np.mean(population))\n",
    "plt.xlim([140,200])\n",
    "\n",
    "# Plotting the sampling distribution\n",
    "plt.subplot(2,1,2)\n",
    "sns.distplot(mean_distribution)\n",
    "plt.title(\"Sampling Distribution of the Mean Weight of Gym Goers\")\n",
    "plt.axvline(x = np.mean(population))\n",
    "plt.axvline(x = np.mean(students_at_gym), color = \"black\")\n",
    "plt.xlim([140,200])\n",
    "\n",
    "plt.show()"
   ]
  }
 ],
 "metadata": {
  "kernelspec": {
   "display_name": "Python 2",
   "language": "python",
   "name": "python2"
  },
  "language_info": {
   "codemirror_mode": {
    "name": "ipython",
    "version": 2
   },
   "file_extension": ".py",
   "mimetype": "text/x-python",
   "name": "python",
   "nbconvert_exporter": "python",
   "pygments_lexer": "ipython2",
   "version": "2.7.15"
  }
 },
 "nbformat": 4,
 "nbformat_minor": 2
}
